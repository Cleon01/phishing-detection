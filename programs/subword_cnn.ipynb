{
 "cells": [
  {
   "cell_type": "code",
   "execution_count": 1,
   "metadata": {},
   "outputs": [],
   "source": [
    "import pandas as pd\n",
    "import time\n",
    "import numpy as np"
   ]
  },
  {
   "cell_type": "code",
   "execution_count": 2,
   "metadata": {},
   "outputs": [],
   "source": [
    "SWurl = pd.read_csv('../data/url-IEEEData-dict2-subword.csv')"
   ]
  },
  {
   "cell_type": "code",
   "execution_count": 3,
   "metadata": {},
   "outputs": [
    {
     "data": {
      "text/html": [
       "<div>\n",
       "<style scoped>\n",
       "    .dataframe tbody tr th:only-of-type {\n",
       "        vertical-align: middle;\n",
       "    }\n",
       "\n",
       "    .dataframe tbody tr th {\n",
       "        vertical-align: top;\n",
       "    }\n",
       "\n",
       "    .dataframe thead th {\n",
       "        text-align: right;\n",
       "    }\n",
       "</style>\n",
       "<table border=\"1\" class=\"dataframe\">\n",
       "  <thead>\n",
       "    <tr style=\"text-align: right;\">\n",
       "      <th></th>\n",
       "      <th>Unnamed: 0</th>\n",
       "      <th>word2</th>\n",
       "      <th>label</th>\n",
       "      <th>nurl</th>\n",
       "    </tr>\n",
       "  </thead>\n",
       "  <tbody>\n",
       "    <tr>\n",
       "      <th>0</th>\n",
       "      <td>0</td>\n",
       "      <td>belajarprogramming com  newpaypal loggy paypal...</td>\n",
       "      <td>1</td>\n",
       "      <td>bela, jar, pro, gram, ming, com, new, pa, yp, ...</td>\n",
       "    </tr>\n",
       "    <tr>\n",
       "      <th>1</th>\n",
       "      <td>1</td>\n",
       "      <td>ninedotlabs com  att2 index.php</td>\n",
       "      <td>1</td>\n",
       "      <td>nine, dot, lab, s, com, at, t, 2, index, ., php</td>\n",
       "    </tr>\n",
       "    <tr>\n",
       "      <th>2</th>\n",
       "      <td>2</td>\n",
       "      <td>www almostfabulous com  youker</td>\n",
       "      <td>0</td>\n",
       "      <td>www, almost, fa, bu, lous, com, you, ker</td>\n",
       "    </tr>\n",
       "    <tr>\n",
       "      <th>3</th>\n",
       "      <td>3</td>\n",
       "      <td>stbcomputer com  autodesk components www.paypa...</td>\n",
       "      <td>1</td>\n",
       "      <td>st, bc, omp, uter, com, auto, des, k, componen...</td>\n",
       "    </tr>\n",
       "    <tr>\n",
       "      <th>4</th>\n",
       "      <td>4</td>\n",
       "      <td>members tripod com  chang.ling</td>\n",
       "      <td>0</td>\n",
       "      <td>members, trip, od, com, chang, ., ling</td>\n",
       "    </tr>\n",
       "    <tr>\n",
       "      <th>...</th>\n",
       "      <td>...</td>\n",
       "      <td>...</td>\n",
       "      <td>...</td>\n",
       "      <td>...</td>\n",
       "    </tr>\n",
       "    <tr>\n",
       "      <th>95777</th>\n",
       "      <td>95777</td>\n",
       "      <td>www winehq com</td>\n",
       "      <td>0</td>\n",
       "      <td>www, wine, h, q, com</td>\n",
       "    </tr>\n",
       "    <tr>\n",
       "      <th>95778</th>\n",
       "      <td>95778</td>\n",
       "      <td>2933517 com  js</td>\n",
       "      <td>1</td>\n",
       "      <td>293, 35, 17, com, j, s</td>\n",
       "    </tr>\n",
       "    <tr>\n",
       "      <th>95779</th>\n",
       "      <td>95779</td>\n",
       "      <td>imajinsmiles com  Questions.html</td>\n",
       "      <td>1</td>\n",
       "      <td>im, aj, ins, mi, les, com, questions, ., html</td>\n",
       "    </tr>\n",
       "    <tr>\n",
       "      <th>95780</th>\n",
       "      <td>95780</td>\n",
       "      <td>thesecondhalfonline com  wp-includes js tinymc...</td>\n",
       "      <td>1</td>\n",
       "      <td>these, con, dha, lf, on, line, com, w, p, -, i...</td>\n",
       "    </tr>\n",
       "    <tr>\n",
       "      <th>95781</th>\n",
       "      <td>95781</td>\n",
       "      <td>www informationweek com  whitepaper index.jhtml</td>\n",
       "      <td>0</td>\n",
       "      <td>www, information, week, com, white, paper, ind...</td>\n",
       "    </tr>\n",
       "  </tbody>\n",
       "</table>\n",
       "<p>95782 rows × 4 columns</p>\n",
       "</div>"
      ],
      "text/plain": [
       "       Unnamed: 0                                              word2  label  \\\n",
       "0               0  belajarprogramming com  newpaypal loggy paypal...      1   \n",
       "1               1                    ninedotlabs com  att2 index.php      1   \n",
       "2               2                    www almostfabulous com  youker       0   \n",
       "3               3  stbcomputer com  autodesk components www.paypa...      1   \n",
       "4               4                    members tripod com  chang.ling       0   \n",
       "...           ...                                                ...    ...   \n",
       "95777       95777                                   www winehq com        0   \n",
       "95778       95778                                    2933517 com  js      1   \n",
       "95779       95779                   imajinsmiles com  Questions.html      1   \n",
       "95780       95780  thesecondhalfonline com  wp-includes js tinymc...      1   \n",
       "95781       95781    www informationweek com  whitepaper index.jhtml      0   \n",
       "\n",
       "                                                    nurl  \n",
       "0      bela, jar, pro, gram, ming, com, new, pa, yp, ...  \n",
       "1        nine, dot, lab, s, com, at, t, 2, index, ., php  \n",
       "2               www, almost, fa, bu, lous, com, you, ker  \n",
       "3      st, bc, omp, uter, com, auto, des, k, componen...  \n",
       "4                 members, trip, od, com, chang, ., ling  \n",
       "...                                                  ...  \n",
       "95777                               www, wine, h, q, com  \n",
       "95778                             293, 35, 17, com, j, s  \n",
       "95779      im, aj, ins, mi, les, com, questions, ., html  \n",
       "95780  these, con, dha, lf, on, line, com, w, p, -, i...  \n",
       "95781  www, information, week, com, white, paper, ind...  \n",
       "\n",
       "[95782 rows x 4 columns]"
      ]
     },
     "execution_count": 3,
     "metadata": {},
     "output_type": "execute_result"
    }
   ],
   "source": [
    "SWurl"
   ]
  },
  {
   "cell_type": "code",
   "execution_count": 4,
   "metadata": {},
   "outputs": [],
   "source": [
    "def add_word_to_dict(word,worddict):\n",
    "    if (word not in worddict):\n",
    "        worddict[word] = len(worddict)+1"
   ]
  },
  {
   "cell_type": "code",
   "execution_count": 5,
   "metadata": {},
   "outputs": [],
   "source": [
    "worddict = dict()\n",
    "for i in range(0,len(SWurl['nurl'])):\n",
    "    a=SWurl['nurl'][i].split(', ')\n",
    "    for j in range(0,len(a)):\n",
    "        add_word_to_dict(a[j], worddict)"
   ]
  },
  {
   "cell_type": "code",
   "execution_count": 6,
   "metadata": {},
   "outputs": [
    {
     "data": {
      "text/plain": [
       "14221"
      ]
     },
     "execution_count": 6,
     "metadata": {},
     "output_type": "execute_result"
    }
   ],
   "source": [
    "len(worddict)"
   ]
  },
  {
   "cell_type": "code",
   "execution_count": 7,
   "metadata": {},
   "outputs": [],
   "source": [
    "wordLength = 0\n",
    "for i in range(0,len(SWurl['nurl'])):\n",
    "    a=SWurl['nurl'][i].split(', ')\n",
    "    if (len(a) > wordLength):\n",
    "        wordLength = len(a)"
   ]
  },
  {
   "cell_type": "code",
   "execution_count": 8,
   "metadata": {},
   "outputs": [
    {
     "data": {
      "text/plain": [
       "329"
      ]
     },
     "execution_count": 8,
     "metadata": {},
     "output_type": "execute_result"
    }
   ],
   "source": [
    "wordLength"
   ]
  },
  {
   "cell_type": "code",
   "execution_count": 9,
   "metadata": {},
   "outputs": [],
   "source": [
    "X = np.zeros(shape=(len(SWurl['nurl']),wordLength))\n",
    "for i in range(0, len(SWurl['nurl'])):\n",
    "    a = SWurl['nurl'][i].split(', ')\n",
    "    for j in range(0,len(a)):\n",
    "        X[i, j] = worddict.get(a[j])"
   ]
  },
  {
   "cell_type": "code",
   "execution_count": 10,
   "metadata": {},
   "outputs": [
    {
     "data": {
      "text/html": [
       "<div>\n",
       "<style scoped>\n",
       "    .dataframe tbody tr th:only-of-type {\n",
       "        vertical-align: middle;\n",
       "    }\n",
       "\n",
       "    .dataframe tbody tr th {\n",
       "        vertical-align: top;\n",
       "    }\n",
       "\n",
       "    .dataframe thead th {\n",
       "        text-align: right;\n",
       "    }\n",
       "</style>\n",
       "<table border=\"1\" class=\"dataframe\">\n",
       "  <thead>\n",
       "    <tr style=\"text-align: right;\">\n",
       "      <th></th>\n",
       "      <th>0</th>\n",
       "      <th>1</th>\n",
       "      <th>2</th>\n",
       "      <th>3</th>\n",
       "      <th>4</th>\n",
       "      <th>5</th>\n",
       "      <th>6</th>\n",
       "      <th>7</th>\n",
       "      <th>8</th>\n",
       "      <th>9</th>\n",
       "      <th>...</th>\n",
       "      <th>319</th>\n",
       "      <th>320</th>\n",
       "      <th>321</th>\n",
       "      <th>322</th>\n",
       "      <th>323</th>\n",
       "      <th>324</th>\n",
       "      <th>325</th>\n",
       "      <th>326</th>\n",
       "      <th>327</th>\n",
       "      <th>328</th>\n",
       "    </tr>\n",
       "  </thead>\n",
       "  <tbody>\n",
       "    <tr>\n",
       "      <th>0</th>\n",
       "      <td>1</td>\n",
       "      <td>2</td>\n",
       "      <td>3</td>\n",
       "      <td>4</td>\n",
       "      <td>5</td>\n",
       "      <td>6</td>\n",
       "      <td>7</td>\n",
       "      <td>8</td>\n",
       "      <td>9</td>\n",
       "      <td>10</td>\n",
       "      <td>...</td>\n",
       "      <td>0</td>\n",
       "      <td>0</td>\n",
       "      <td>0</td>\n",
       "      <td>0</td>\n",
       "      <td>0</td>\n",
       "      <td>0</td>\n",
       "      <td>0</td>\n",
       "      <td>0</td>\n",
       "      <td>0</td>\n",
       "      <td>0</td>\n",
       "    </tr>\n",
       "    <tr>\n",
       "      <th>1</th>\n",
       "      <td>18</td>\n",
       "      <td>19</td>\n",
       "      <td>20</td>\n",
       "      <td>21</td>\n",
       "      <td>6</td>\n",
       "      <td>22</td>\n",
       "      <td>23</td>\n",
       "      <td>24</td>\n",
       "      <td>25</td>\n",
       "      <td>15</td>\n",
       "      <td>...</td>\n",
       "      <td>0</td>\n",
       "      <td>0</td>\n",
       "      <td>0</td>\n",
       "      <td>0</td>\n",
       "      <td>0</td>\n",
       "      <td>0</td>\n",
       "      <td>0</td>\n",
       "      <td>0</td>\n",
       "      <td>0</td>\n",
       "      <td>0</td>\n",
       "    </tr>\n",
       "    <tr>\n",
       "      <th>2</th>\n",
       "      <td>27</td>\n",
       "      <td>28</td>\n",
       "      <td>29</td>\n",
       "      <td>30</td>\n",
       "      <td>31</td>\n",
       "      <td>6</td>\n",
       "      <td>32</td>\n",
       "      <td>33</td>\n",
       "      <td>0</td>\n",
       "      <td>0</td>\n",
       "      <td>...</td>\n",
       "      <td>0</td>\n",
       "      <td>0</td>\n",
       "      <td>0</td>\n",
       "      <td>0</td>\n",
       "      <td>0</td>\n",
       "      <td>0</td>\n",
       "      <td>0</td>\n",
       "      <td>0</td>\n",
       "      <td>0</td>\n",
       "      <td>0</td>\n",
       "    </tr>\n",
       "    <tr>\n",
       "      <th>3</th>\n",
       "      <td>34</td>\n",
       "      <td>35</td>\n",
       "      <td>36</td>\n",
       "      <td>37</td>\n",
       "      <td>6</td>\n",
       "      <td>38</td>\n",
       "      <td>39</td>\n",
       "      <td>40</td>\n",
       "      <td>41</td>\n",
       "      <td>27</td>\n",
       "      <td>...</td>\n",
       "      <td>0</td>\n",
       "      <td>0</td>\n",
       "      <td>0</td>\n",
       "      <td>0</td>\n",
       "      <td>0</td>\n",
       "      <td>0</td>\n",
       "      <td>0</td>\n",
       "      <td>0</td>\n",
       "      <td>0</td>\n",
       "      <td>0</td>\n",
       "    </tr>\n",
       "    <tr>\n",
       "      <th>4</th>\n",
       "      <td>68</td>\n",
       "      <td>69</td>\n",
       "      <td>70</td>\n",
       "      <td>6</td>\n",
       "      <td>71</td>\n",
       "      <td>15</td>\n",
       "      <td>72</td>\n",
       "      <td>0</td>\n",
       "      <td>0</td>\n",
       "      <td>0</td>\n",
       "      <td>...</td>\n",
       "      <td>0</td>\n",
       "      <td>0</td>\n",
       "      <td>0</td>\n",
       "      <td>0</td>\n",
       "      <td>0</td>\n",
       "      <td>0</td>\n",
       "      <td>0</td>\n",
       "      <td>0</td>\n",
       "      <td>0</td>\n",
       "      <td>0</td>\n",
       "    </tr>\n",
       "    <tr>\n",
       "      <th>...</th>\n",
       "      <td>...</td>\n",
       "      <td>...</td>\n",
       "      <td>...</td>\n",
       "      <td>...</td>\n",
       "      <td>...</td>\n",
       "      <td>...</td>\n",
       "      <td>...</td>\n",
       "      <td>...</td>\n",
       "      <td>...</td>\n",
       "      <td>...</td>\n",
       "      <td>...</td>\n",
       "      <td>...</td>\n",
       "      <td>...</td>\n",
       "      <td>...</td>\n",
       "      <td>...</td>\n",
       "      <td>...</td>\n",
       "      <td>...</td>\n",
       "      <td>...</td>\n",
       "      <td>...</td>\n",
       "      <td>...</td>\n",
       "      <td>...</td>\n",
       "    </tr>\n",
       "    <tr>\n",
       "      <th>95777</th>\n",
       "      <td>27</td>\n",
       "      <td>6117</td>\n",
       "      <td>16</td>\n",
       "      <td>588</td>\n",
       "      <td>6</td>\n",
       "      <td>0</td>\n",
       "      <td>0</td>\n",
       "      <td>0</td>\n",
       "      <td>0</td>\n",
       "      <td>0</td>\n",
       "      <td>...</td>\n",
       "      <td>0</td>\n",
       "      <td>0</td>\n",
       "      <td>0</td>\n",
       "      <td>0</td>\n",
       "      <td>0</td>\n",
       "      <td>0</td>\n",
       "      <td>0</td>\n",
       "      <td>0</td>\n",
       "      <td>0</td>\n",
       "      <td>0</td>\n",
       "    </tr>\n",
       "    <tr>\n",
       "      <th>95778</th>\n",
       "      <td>9549</td>\n",
       "      <td>452</td>\n",
       "      <td>240</td>\n",
       "      <td>6</td>\n",
       "      <td>79</td>\n",
       "      <td>21</td>\n",
       "      <td>0</td>\n",
       "      <td>0</td>\n",
       "      <td>0</td>\n",
       "      <td>0</td>\n",
       "      <td>...</td>\n",
       "      <td>0</td>\n",
       "      <td>0</td>\n",
       "      <td>0</td>\n",
       "      <td>0</td>\n",
       "      <td>0</td>\n",
       "      <td>0</td>\n",
       "      <td>0</td>\n",
       "      <td>0</td>\n",
       "      <td>0</td>\n",
       "      <td>0</td>\n",
       "    </tr>\n",
       "    <tr>\n",
       "      <th>95779</th>\n",
       "      <td>84</td>\n",
       "      <td>3979</td>\n",
       "      <td>568</td>\n",
       "      <td>102</td>\n",
       "      <td>512</td>\n",
       "      <td>6</td>\n",
       "      <td>2850</td>\n",
       "      <td>15</td>\n",
       "      <td>101</td>\n",
       "      <td>0</td>\n",
       "      <td>...</td>\n",
       "      <td>0</td>\n",
       "      <td>0</td>\n",
       "      <td>0</td>\n",
       "      <td>0</td>\n",
       "      <td>0</td>\n",
       "      <td>0</td>\n",
       "      <td>0</td>\n",
       "      <td>0</td>\n",
       "      <td>0</td>\n",
       "      <td>0</td>\n",
       "    </tr>\n",
       "    <tr>\n",
       "      <th>95780</th>\n",
       "      <td>4655</td>\n",
       "      <td>668</td>\n",
       "      <td>8283</td>\n",
       "      <td>1696</td>\n",
       "      <td>322</td>\n",
       "      <td>913</td>\n",
       "      <td>6</td>\n",
       "      <td>172</td>\n",
       "      <td>199</td>\n",
       "      <td>45</td>\n",
       "      <td>...</td>\n",
       "      <td>0</td>\n",
       "      <td>0</td>\n",
       "      <td>0</td>\n",
       "      <td>0</td>\n",
       "      <td>0</td>\n",
       "      <td>0</td>\n",
       "      <td>0</td>\n",
       "      <td>0</td>\n",
       "      <td>0</td>\n",
       "      <td>0</td>\n",
       "    </tr>\n",
       "    <tr>\n",
       "      <th>95781</th>\n",
       "      <td>27</td>\n",
       "      <td>73</td>\n",
       "      <td>2381</td>\n",
       "      <td>6</td>\n",
       "      <td>3268</td>\n",
       "      <td>665</td>\n",
       "      <td>25</td>\n",
       "      <td>15</td>\n",
       "      <td>79</td>\n",
       "      <td>1258</td>\n",
       "      <td>...</td>\n",
       "      <td>0</td>\n",
       "      <td>0</td>\n",
       "      <td>0</td>\n",
       "      <td>0</td>\n",
       "      <td>0</td>\n",
       "      <td>0</td>\n",
       "      <td>0</td>\n",
       "      <td>0</td>\n",
       "      <td>0</td>\n",
       "      <td>0</td>\n",
       "    </tr>\n",
       "  </tbody>\n",
       "</table>\n",
       "<p>95782 rows × 329 columns</p>\n",
       "</div>"
      ],
      "text/plain": [
       "        0     1     2     3     4    5     6    7    8     9    ...  319  320  \\\n",
       "0         1     2     3     4     5    6     7    8    9    10  ...    0    0   \n",
       "1        18    19    20    21     6   22    23   24   25    15  ...    0    0   \n",
       "2        27    28    29    30    31    6    32   33    0     0  ...    0    0   \n",
       "3        34    35    36    37     6   38    39   40   41    27  ...    0    0   \n",
       "4        68    69    70     6    71   15    72    0    0     0  ...    0    0   \n",
       "...     ...   ...   ...   ...   ...  ...   ...  ...  ...   ...  ...  ...  ...   \n",
       "95777    27  6117    16   588     6    0     0    0    0     0  ...    0    0   \n",
       "95778  9549   452   240     6    79   21     0    0    0     0  ...    0    0   \n",
       "95779    84  3979   568   102   512    6  2850   15  101     0  ...    0    0   \n",
       "95780  4655   668  8283  1696   322  913     6  172  199    45  ...    0    0   \n",
       "95781    27    73  2381     6  3268  665    25   15   79  1258  ...    0    0   \n",
       "\n",
       "       321  322  323  324  325  326  327  328  \n",
       "0        0    0    0    0    0    0    0    0  \n",
       "1        0    0    0    0    0    0    0    0  \n",
       "2        0    0    0    0    0    0    0    0  \n",
       "3        0    0    0    0    0    0    0    0  \n",
       "4        0    0    0    0    0    0    0    0  \n",
       "...    ...  ...  ...  ...  ...  ...  ...  ...  \n",
       "95777    0    0    0    0    0    0    0    0  \n",
       "95778    0    0    0    0    0    0    0    0  \n",
       "95779    0    0    0    0    0    0    0    0  \n",
       "95780    0    0    0    0    0    0    0    0  \n",
       "95781    0    0    0    0    0    0    0    0  \n",
       "\n",
       "[95782 rows x 329 columns]"
      ]
     },
     "execution_count": 10,
     "metadata": {},
     "output_type": "execute_result"
    }
   ],
   "source": [
    "SWX = pd.DataFrame(X)\n",
    "SWX = SWX.astype(int)\n",
    "SWX"
   ]
  },
  {
   "cell_type": "code",
   "execution_count": 11,
   "metadata": {},
   "outputs": [
    {
     "data": {
      "text/plain": [
       "(95782, 329)"
      ]
     },
     "execution_count": 11,
     "metadata": {},
     "output_type": "execute_result"
    }
   ],
   "source": [
    "X = SWX\n",
    "X.shape"
   ]
  },
  {
   "cell_type": "code",
   "execution_count": 12,
   "metadata": {},
   "outputs": [],
   "source": [
    "Y = SWurl['label']"
   ]
  },
  {
   "cell_type": "code",
   "execution_count": 13,
   "metadata": {},
   "outputs": [
    {
     "data": {
      "text/plain": [
       "(95782,)"
      ]
     },
     "execution_count": 13,
     "metadata": {},
     "output_type": "execute_result"
    }
   ],
   "source": [
    "Y.shape"
   ]
  },
  {
   "cell_type": "code",
   "execution_count": 14,
   "metadata": {},
   "outputs": [],
   "source": [
    "from sklearn.model_selection import train_test_split\n",
    "Xtrain, Xtest, ytrain, ytest = train_test_split(X, Y, test_size=0.2, random_state=42)"
   ]
  },
  {
   "cell_type": "code",
   "execution_count": 15,
   "metadata": {},
   "outputs": [
    {
     "data": {
      "text/plain": [
       "((76625, 329), 76625)"
      ]
     },
     "execution_count": 15,
     "metadata": {},
     "output_type": "execute_result"
    }
   ],
   "source": [
    "Xtrain.shape, len(ytrain)"
   ]
  },
  {
   "cell_type": "code",
   "execution_count": 16,
   "metadata": {},
   "outputs": [
    {
     "data": {
      "text/plain": [
       "((19157, 329), 19157)"
      ]
     },
     "execution_count": 16,
     "metadata": {},
     "output_type": "execute_result"
    }
   ],
   "source": [
    "Xtest.shape, len(ytest)"
   ]
  },
  {
   "cell_type": "code",
   "execution_count": 17,
   "metadata": {},
   "outputs": [],
   "source": [
    "from keras.layers import Embedding\n",
    "from keras.models import Sequential, Model\n",
    "from keras.layers import Dense, Activation\n",
    "from keras.layers import Flatten, Conv1D, SpatialDropout1D, MaxPooling1D,AveragePooling1D, merge, concatenate, Input, Dropout\n",
    "from keras.utils import plot_model\n",
    "from keras.layers import GaussianNoise\n",
    "from keras.regularizers import l1, l2, l1_l2\n",
    "from keras.layers import SpatialDropout1D, SpatialDropout2D, SpatialDropout3D\n",
    "from keras.callbacks import EarlyStopping"
   ]
  },
  {
   "cell_type": "code",
   "execution_count": 18,
   "metadata": {},
   "outputs": [],
   "source": [
    "vocab_size = len(worddict)\n",
    "maxLength = wordLength"
   ]
  },
  {
   "cell_type": "code",
   "execution_count": 19,
   "metadata": {},
   "outputs": [],
   "source": [
    "vocab_size = 14222\n",
    "maxLength = 329"
   ]
  },
  {
   "cell_type": "code",
   "execution_count": 20,
   "metadata": {},
   "outputs": [
    {
     "data": {
      "text/plain": [
       "(14222, 329)"
      ]
     },
     "execution_count": 20,
     "metadata": {},
     "output_type": "execute_result"
    }
   ],
   "source": [
    "vocab_size, maxLength"
   ]
  },
  {
   "cell_type": "code",
   "execution_count": 21,
   "metadata": {},
   "outputs": [
    {
     "name": "stdout",
     "output_type": "stream",
     "text": [
      "Model: \"model\"\n",
      "__________________________________________________________________________________________________\n",
      "Layer (type)                    Output Shape         Param #     Connected to                     \n",
      "==================================================================================================\n",
      "input_1 (InputLayer)            [(None, 329)]        0                                            \n",
      "__________________________________________________________________________________________________\n",
      "embedding (Embedding)           (None, 329, 48)      682656      input_1[0][0]                    \n",
      "__________________________________________________________________________________________________\n",
      "gaussian_noise (GaussianNoise)  (None, 329, 48)      0           embedding[0][0]                  \n",
      "__________________________________________________________________________________________________\n",
      "spatial_dropout1d (SpatialDropo (None, 329, 48)      0           gaussian_noise[0][0]             \n",
      "__________________________________________________________________________________________________\n",
      "conv1d (Conv1D)                 (None, 329, 256)     24832       spatial_dropout1d[0][0]          \n",
      "__________________________________________________________________________________________________\n",
      "conv1d_1 (Conv1D)               (None, 329, 256)     37120       spatial_dropout1d[0][0]          \n",
      "__________________________________________________________________________________________________\n",
      "conv1d_2 (Conv1D)               (None, 329, 256)     49408       spatial_dropout1d[0][0]          \n",
      "__________________________________________________________________________________________________\n",
      "conv1d_3 (Conv1D)               (None, 329, 256)     61696       spatial_dropout1d[0][0]          \n",
      "__________________________________________________________________________________________________\n",
      "conv1d_4 (Conv1D)               (None, 329, 256)     123136      spatial_dropout1d[0][0]          \n",
      "__________________________________________________________________________________________________\n",
      "flatten (Flatten)               (None, 84224)        0           conv1d[0][0]                     \n",
      "__________________________________________________________________________________________________\n",
      "flatten_1 (Flatten)             (None, 84224)        0           conv1d_1[0][0]                   \n",
      "__________________________________________________________________________________________________\n",
      "flatten_2 (Flatten)             (None, 84224)        0           conv1d_2[0][0]                   \n",
      "__________________________________________________________________________________________________\n",
      "flatten_3 (Flatten)             (None, 84224)        0           conv1d_3[0][0]                   \n",
      "__________________________________________________________________________________________________\n",
      "flatten_4 (Flatten)             (None, 84224)        0           conv1d_4[0][0]                   \n",
      "__________________________________________________________________________________________________\n",
      "flatten_5 (Flatten)             (None, 15792)        0           gaussian_noise[0][0]             \n",
      "__________________________________________________________________________________________________\n",
      "concatenate (Concatenate)       (None, 436912)       0           flatten[0][0]                    \n",
      "                                                                 flatten_1[0][0]                  \n",
      "                                                                 flatten_2[0][0]                  \n",
      "                                                                 flatten_3[0][0]                  \n",
      "                                                                 flatten_4[0][0]                  \n",
      "                                                                 flatten_5[0][0]                  \n",
      "__________________________________________________________________________________________________\n",
      "dropout (Dropout)               (None, 436912)       0           concatenate[0][0]                \n",
      "__________________________________________________________________________________________________\n",
      "dense (Dense)                   (None, 128)          55924864    dropout[0][0]                    \n",
      "__________________________________________________________________________________________________\n",
      "dense_1 (Dense)                 (None, 128)          16512       dense[0][0]                      \n",
      "__________________________________________________________________________________________________\n",
      "dense_2 (Dense)                 (None, 128)          16512       dense_1[0][0]                    \n",
      "__________________________________________________________________________________________________\n",
      "dense_3 (Dense)                 (None, 1)            129         dense_2[0][0]                    \n",
      "==================================================================================================\n",
      "Total params: 56,936,865\n",
      "Trainable params: 56,936,865\n",
      "Non-trainable params: 0\n",
      "__________________________________________________________________________________________________\n",
      "None\n",
      "Epoch 1/10\n",
      "2395/2395 [==============================] - 1252s 522ms/step - loss: 0.7664 - accuracy: 0.7763 - val_loss: 0.1909 - val_accuracy: 0.9292\n",
      "Epoch 2/10\n",
      "2395/2395 [==============================] - 1229s 513ms/step - loss: 0.1999 - accuracy: 0.9215 - val_loss: 0.1450 - val_accuracy: 0.9436\n",
      "Epoch 3/10\n",
      "2395/2395 [==============================] - 1210s 505ms/step - loss: 0.1579 - accuracy: 0.9384 - val_loss: 0.1363 - val_accuracy: 0.9464\n",
      "Epoch 4/10\n",
      "2395/2395 [==============================] - 1285s 537ms/step - loss: 0.1283 - accuracy: 0.9506 - val_loss: 0.1270 - val_accuracy: 0.9522\n",
      "Epoch 5/10\n",
      "2395/2395 [==============================] - 1218s 509ms/step - loss: 0.1103 - accuracy: 0.9583 - val_loss: 0.1044 - val_accuracy: 0.9612\n",
      "Epoch 6/10\n",
      "2395/2395 [==============================] - 1216s 508ms/step - loss: 0.1006 - accuracy: 0.9619 - val_loss: 0.0946 - val_accuracy: 0.9659\n",
      "Epoch 7/10\n",
      "2395/2395 [==============================] - 1232s 515ms/step - loss: 0.0860 - accuracy: 0.9672 - val_loss: 0.1032 - val_accuracy: 0.9646\n",
      "Epoch 8/10\n",
      "2395/2395 [==============================] - 1249s 521ms/step - loss: 0.0768 - accuracy: 0.9716 - val_loss: 0.0876 - val_accuracy: 0.9705\n",
      "Epoch 9/10\n",
      "2395/2395 [==============================] - 1217s 508ms/step - loss: 0.0694 - accuracy: 0.9740 - val_loss: 0.0772 - val_accuracy: 0.9718\n",
      "Epoch 10/10\n",
      "2395/2395 [==============================] - 1255s 524ms/step - loss: 0.0646 - accuracy: 0.9763 - val_loss: 0.0782 - val_accuracy: 0.9723\n",
      "time for training the model = 12365 sec\n",
      "Test Accuracy: 97.228169\n",
      "Test Loss: 7.824562\n"
     ]
    }
   ],
   "source": [
    "def model(max_length, vocab_size, output_dim, filter_sizes, num_filters, dropout_rate, dense_units):\n",
    "    embed_input = Input(shape=(max_length,))\n",
    "    x = Embedding(vocab_size, output_dim, input_length=max_length)(embed_input)\n",
    "    \n",
    "    noise = GaussianNoise(0.5)(x)\n",
    "    \n",
    "    drop = SpatialDropout1D(dropout_rate)(noise)\n",
    "    pooled_outputs = []\n",
    "    for i in range(len(filter_sizes)):\n",
    "        conv = Conv1D(num_filters, kernel_size=filter_sizes[i], padding='same', activation='relu')(drop)\n",
    "        conv = Flatten()(conv)           \n",
    "        pooled_outputs.append(conv)\n",
    "        \n",
    "    \n",
    "    flat = Flatten()(noise)\n",
    "    pooled_outputs.append(flat)\n",
    "    \n",
    "    merge = concatenate(pooled_outputs)\n",
    "    drop = Dropout(dropout_rate)(merge)\n",
    "    \n",
    "    dense_1 = Dense(dense_units, activation='relu')(drop)\n",
    "    dense_2 = Dense(dense_units, activation='relu')(dense_1)\n",
    "    dense_3 = Dense(dense_units, activation='relu')(dense_2)\n",
    "    out = Dense(1, activation='sigmoid')(dense_3)\n",
    "    \n",
    "    model = Model(inputs=embed_input, outputs=out)\n",
    "    \n",
    "    model.compile(loss='binary_crossentropy', optimizer='adam', metrics=['accuracy'])\n",
    "    \n",
    "    print(model.summary())\n",
    "    return model\n",
    "\n",
    "import time\n",
    "start=time.time()\n",
    "model = model(maxLength, vocab_size, 48, [2, 3, 4, 5, 10], 256, 0.4, 128)\n",
    "history = model.fit(Xtrain, ytrain, validation_data=(Xtest, ytest), epochs=10, verbose=1) \n",
    "\n",
    "print('time for training the model = {:.0f} sec'.format(time.time()-start))\n",
    "# evaluate\n",
    "loss, acc = model.evaluate(Xtest, ytest, verbose=0)\n",
    "print('Test Accuracy: %f' % (acc*100))\n",
    "print('Test Loss: %f' % (loss*100))"
   ]
  },
  {
   "cell_type": "code",
   "execution_count": 22,
   "metadata": {},
   "outputs": [
    {
     "name": "stdout",
     "output_type": "stream",
     "text": [
      "[[9407  180]\n",
      " [ 351 9219]]\n"
     ]
    }
   ],
   "source": [
    "from sklearn.metrics import confusion_matrix\n",
    "y_pred = model.predict(Xtest)\n",
    "print(confusion_matrix(ytest, np.rint(y_pred)))"
   ]
  },
  {
   "cell_type": "code",
   "execution_count": 23,
   "metadata": {},
   "outputs": [],
   "source": [
    "model.save(\"../saved_models/Subword-CNN_iter10.h5\")"
   ]
  },
  {
   "cell_type": "code",
   "execution_count": 24,
   "metadata": {},
   "outputs": [
    {
     "name": "stdout",
     "output_type": "stream",
     "text": [
      "Epoch 1/10\n",
      "2395/2395 [==============================] - 1204s 503ms/step - loss: 0.0596 - accuracy: 0.9779 - val_loss: 0.0797 - val_accuracy: 0.9708\n",
      "Epoch 2/10\n",
      "2395/2395 [==============================] - 1181s 493ms/step - loss: 0.0535 - accuracy: 0.9804 - val_loss: 0.0799 - val_accuracy: 0.9726\n",
      "Epoch 3/10\n",
      "2395/2395 [==============================] - 1201s 502ms/step - loss: 0.0505 - accuracy: 0.9815 - val_loss: 0.0747 - val_accuracy: 0.9731\n",
      "Epoch 4/10\n",
      "2395/2395 [==============================] - 1176s 491ms/step - loss: 0.0480 - accuracy: 0.9823 - val_loss: 0.0736 - val_accuracy: 0.9749\n",
      "Epoch 5/10\n",
      "2395/2395 [==============================] - 1183s 494ms/step - loss: 0.0434 - accuracy: 0.9843 - val_loss: 0.0741 - val_accuracy: 0.9739\n",
      "Epoch 6/10\n",
      "2395/2395 [==============================] - 1176s 491ms/step - loss: 0.0409 - accuracy: 0.9854 - val_loss: 0.0777 - val_accuracy: 0.9742\n",
      "Epoch 7/10\n",
      "2395/2395 [==============================] - 1172s 489ms/step - loss: 0.0391 - accuracy: 0.9863 - val_loss: 0.0775 - val_accuracy: 0.9739\n",
      "Epoch 8/10\n",
      "2395/2395 [==============================] - 1167s 487ms/step - loss: 0.0364 - accuracy: 0.9870 - val_loss: 0.0732 - val_accuracy: 0.9749\n",
      "Epoch 9/10\n",
      "2395/2395 [==============================] - 1169s 488ms/step - loss: 0.0323 - accuracy: 0.9881 - val_loss: 0.0872 - val_accuracy: 0.9746\n",
      "Epoch 10/10\n",
      "2395/2395 [==============================] - 1171s 489ms/step - loss: 0.0311 - accuracy: 0.9894 - val_loss: 0.0841 - val_accuracy: 0.9760\n",
      "time for training the model = 24334 sec\n",
      "Test Accuracy: 97.604007\n",
      "Test Loss: 8.409890\n"
     ]
    }
   ],
   "source": [
    "history2 = model.fit(Xtrain, ytrain, validation_data=(Xtest, ytest), epochs=10, verbose=1) \n",
    "\n",
    "print('time for training the model = {:.0f} sec'.format(time.time()-start))\n",
    "# evaluate\n",
    "loss, acc = model.evaluate(Xtest, ytest, verbose=0)\n",
    "print('Test Accuracy: %f' % (acc*100))\n",
    "print('Test Loss: %f' % (loss*100))"
   ]
  },
  {
   "cell_type": "code",
   "execution_count": 25,
   "metadata": {},
   "outputs": [
    {
     "name": "stdout",
     "output_type": "stream",
     "text": [
      "[[9424  163]\n",
      " [ 296 9274]]\n"
     ]
    }
   ],
   "source": [
    "from sklearn.metrics import confusion_matrix\n",
    "y_pred = model.predict(Xtest)\n",
    "print(confusion_matrix(ytest, np.rint(y_pred)))"
   ]
  },
  {
   "cell_type": "code",
   "execution_count": 26,
   "metadata": {},
   "outputs": [],
   "source": [
    "model.save(\"../saved_models/Subword-CNN_iter20.h5\")"
   ]
  },
  {
   "cell_type": "code",
   "execution_count": null,
   "metadata": {},
   "outputs": [],
   "source": []
  }
 ],
 "metadata": {
  "kernelspec": {
   "display_name": "Python 3 (ipykernel)",
   "language": "python",
   "name": "python3"
  },
  "language_info": {
   "codemirror_mode": {
    "name": "ipython",
    "version": 3
   },
   "file_extension": ".py",
   "mimetype": "text/x-python",
   "name": "python",
   "nbconvert_exporter": "python",
   "pygments_lexer": "ipython3",
   "version": "3.9.16"
  }
 },
 "nbformat": 4,
 "nbformat_minor": 4
}
