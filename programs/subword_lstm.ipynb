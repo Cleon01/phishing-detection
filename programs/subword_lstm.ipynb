{
 "cells": [
  {
   "cell_type": "code",
   "execution_count": 1,
   "metadata": {},
   "outputs": [],
   "source": [
    "import pandas as pd\n",
    "import time"
   ]
  },
  {
   "cell_type": "code",
   "execution_count": 4,
   "metadata": {},
   "outputs": [],
   "source": [
    "SWurl = pd.read_csv('../data/url-IEEEData-dict2-subword.csv')"
   ]
  },
  {
   "cell_type": "code",
   "execution_count": 5,
   "metadata": {},
   "outputs": [
    {
     "data": {
      "text/html": [
       "<div>\n",
       "<style scoped>\n",
       "    .dataframe tbody tr th:only-of-type {\n",
       "        vertical-align: middle;\n",
       "    }\n",
       "\n",
       "    .dataframe tbody tr th {\n",
       "        vertical-align: top;\n",
       "    }\n",
       "\n",
       "    .dataframe thead th {\n",
       "        text-align: right;\n",
       "    }\n",
       "</style>\n",
       "<table border=\"1\" class=\"dataframe\">\n",
       "  <thead>\n",
       "    <tr style=\"text-align: right;\">\n",
       "      <th></th>\n",
       "      <th>Unnamed: 0</th>\n",
       "      <th>word2</th>\n",
       "      <th>label</th>\n",
       "      <th>nurl</th>\n",
       "    </tr>\n",
       "  </thead>\n",
       "  <tbody>\n",
       "    <tr>\n",
       "      <th>0</th>\n",
       "      <td>0</td>\n",
       "      <td>belajarprogramming com  newpaypal loggy paypal...</td>\n",
       "      <td>1</td>\n",
       "      <td>bela, jar, pro, gram, ming, com, new, pa, yp, ...</td>\n",
       "    </tr>\n",
       "    <tr>\n",
       "      <th>1</th>\n",
       "      <td>1</td>\n",
       "      <td>ninedotlabs com  att2 index.php</td>\n",
       "      <td>1</td>\n",
       "      <td>nine, dot, lab, s, com, at, t, 2, index, ., php</td>\n",
       "    </tr>\n",
       "    <tr>\n",
       "      <th>2</th>\n",
       "      <td>2</td>\n",
       "      <td>www almostfabulous com  youker</td>\n",
       "      <td>0</td>\n",
       "      <td>www, almost, fa, bu, lous, com, you, ker</td>\n",
       "    </tr>\n",
       "    <tr>\n",
       "      <th>3</th>\n",
       "      <td>3</td>\n",
       "      <td>stbcomputer com  autodesk components www.paypa...</td>\n",
       "      <td>1</td>\n",
       "      <td>st, bc, omp, uter, com, auto, des, k, componen...</td>\n",
       "    </tr>\n",
       "    <tr>\n",
       "      <th>4</th>\n",
       "      <td>4</td>\n",
       "      <td>members tripod com  chang.ling</td>\n",
       "      <td>0</td>\n",
       "      <td>members, trip, od, com, chang, ., ling</td>\n",
       "    </tr>\n",
       "    <tr>\n",
       "      <th>...</th>\n",
       "      <td>...</td>\n",
       "      <td>...</td>\n",
       "      <td>...</td>\n",
       "      <td>...</td>\n",
       "    </tr>\n",
       "    <tr>\n",
       "      <th>95777</th>\n",
       "      <td>95777</td>\n",
       "      <td>www winehq com</td>\n",
       "      <td>0</td>\n",
       "      <td>www, wine, h, q, com</td>\n",
       "    </tr>\n",
       "    <tr>\n",
       "      <th>95778</th>\n",
       "      <td>95778</td>\n",
       "      <td>2933517 com  js</td>\n",
       "      <td>1</td>\n",
       "      <td>293, 35, 17, com, j, s</td>\n",
       "    </tr>\n",
       "    <tr>\n",
       "      <th>95779</th>\n",
       "      <td>95779</td>\n",
       "      <td>imajinsmiles com  Questions.html</td>\n",
       "      <td>1</td>\n",
       "      <td>im, aj, ins, mi, les, com, questions, ., html</td>\n",
       "    </tr>\n",
       "    <tr>\n",
       "      <th>95780</th>\n",
       "      <td>95780</td>\n",
       "      <td>thesecondhalfonline com  wp-includes js tinymc...</td>\n",
       "      <td>1</td>\n",
       "      <td>these, con, dha, lf, on, line, com, w, p, -, i...</td>\n",
       "    </tr>\n",
       "    <tr>\n",
       "      <th>95781</th>\n",
       "      <td>95781</td>\n",
       "      <td>www informationweek com  whitepaper index.jhtml</td>\n",
       "      <td>0</td>\n",
       "      <td>www, information, week, com, white, paper, ind...</td>\n",
       "    </tr>\n",
       "  </tbody>\n",
       "</table>\n",
       "<p>95782 rows × 4 columns</p>\n",
       "</div>"
      ],
      "text/plain": [
       "       Unnamed: 0                                              word2  label  \\\n",
       "0               0  belajarprogramming com  newpaypal loggy paypal...      1   \n",
       "1               1                    ninedotlabs com  att2 index.php      1   \n",
       "2               2                    www almostfabulous com  youker       0   \n",
       "3               3  stbcomputer com  autodesk components www.paypa...      1   \n",
       "4               4                    members tripod com  chang.ling       0   \n",
       "...           ...                                                ...    ...   \n",
       "95777       95777                                   www winehq com        0   \n",
       "95778       95778                                    2933517 com  js      1   \n",
       "95779       95779                   imajinsmiles com  Questions.html      1   \n",
       "95780       95780  thesecondhalfonline com  wp-includes js tinymc...      1   \n",
       "95781       95781    www informationweek com  whitepaper index.jhtml      0   \n",
       "\n",
       "                                                    nurl  \n",
       "0      bela, jar, pro, gram, ming, com, new, pa, yp, ...  \n",
       "1        nine, dot, lab, s, com, at, t, 2, index, ., php  \n",
       "2               www, almost, fa, bu, lous, com, you, ker  \n",
       "3      st, bc, omp, uter, com, auto, des, k, componen...  \n",
       "4                 members, trip, od, com, chang, ., ling  \n",
       "...                                                  ...  \n",
       "95777                               www, wine, h, q, com  \n",
       "95778                             293, 35, 17, com, j, s  \n",
       "95779      im, aj, ins, mi, les, com, questions, ., html  \n",
       "95780  these, con, dha, lf, on, line, com, w, p, -, i...  \n",
       "95781  www, information, week, com, white, paper, ind...  \n",
       "\n",
       "[95782 rows x 4 columns]"
      ]
     },
     "execution_count": 5,
     "metadata": {},
     "output_type": "execute_result"
    }
   ],
   "source": [
    "SWurl"
   ]
  },
  {
   "cell_type": "code",
   "execution_count": 6,
   "metadata": {},
   "outputs": [],
   "source": [
    "def add_word_to_dict(word,worddict):\n",
    "    if (word not in worddict):\n",
    "        worddict[word] = len(worddict)+1"
   ]
  },
  {
   "cell_type": "code",
   "execution_count": 7,
   "metadata": {},
   "outputs": [],
   "source": [
    "worddict = dict()\n",
    "for i in range(0,len(SWurl['nurl'])):\n",
    "    a=SWurl['nurl'][i].split(', ')\n",
    "    for j in range(0,len(a)):\n",
    "        add_word_to_dict(a[j], worddict)"
   ]
  },
  {
   "cell_type": "code",
   "execution_count": 8,
   "metadata": {},
   "outputs": [
    {
     "data": {
      "text/plain": [
       "14221"
      ]
     },
     "execution_count": 8,
     "metadata": {},
     "output_type": "execute_result"
    }
   ],
   "source": [
    "len(worddict)"
   ]
  },
  {
   "cell_type": "code",
   "execution_count": 11,
   "metadata": {},
   "outputs": [],
   "source": [
    "wordLength = 0\n",
    "for i in range(0,len(SWurl['nurl'])):\n",
    "    a=SWurl['nurl'][i].split(', ')\n",
    "    if (len(a) > wordLength):\n",
    "        wordLength = len(a)"
   ]
  },
  {
   "cell_type": "code",
   "execution_count": 10,
   "metadata": {},
   "outputs": [
    {
     "data": {
      "text/plain": [
       "329"
      ]
     },
     "execution_count": 10,
     "metadata": {},
     "output_type": "execute_result"
    }
   ],
   "source": [
    "wordLength"
   ]
  },
  {
   "cell_type": "code",
   "execution_count": 13,
   "metadata": {},
   "outputs": [],
   "source": [
    "import numpy as np\n",
    "X = np.zeros(shape=(len(SWurl['nurl']),wordLength))\n",
    "for i in range(0, len(SWurl['nurl'])):\n",
    "    a = SWurl['nurl'][i].split(', ')\n",
    "    for j in range(0,len(a)):\n",
    "        X[i, j] = worddict.get(a[j])"
   ]
  },
  {
   "cell_type": "code",
   "execution_count": 14,
   "metadata": {},
   "outputs": [
    {
     "data": {
      "text/html": [
       "<div>\n",
       "<style scoped>\n",
       "    .dataframe tbody tr th:only-of-type {\n",
       "        vertical-align: middle;\n",
       "    }\n",
       "\n",
       "    .dataframe tbody tr th {\n",
       "        vertical-align: top;\n",
       "    }\n",
       "\n",
       "    .dataframe thead th {\n",
       "        text-align: right;\n",
       "    }\n",
       "</style>\n",
       "<table border=\"1\" class=\"dataframe\">\n",
       "  <thead>\n",
       "    <tr style=\"text-align: right;\">\n",
       "      <th></th>\n",
       "      <th>0</th>\n",
       "      <th>1</th>\n",
       "      <th>2</th>\n",
       "      <th>3</th>\n",
       "      <th>4</th>\n",
       "      <th>5</th>\n",
       "      <th>6</th>\n",
       "      <th>7</th>\n",
       "      <th>8</th>\n",
       "      <th>9</th>\n",
       "      <th>...</th>\n",
       "      <th>319</th>\n",
       "      <th>320</th>\n",
       "      <th>321</th>\n",
       "      <th>322</th>\n",
       "      <th>323</th>\n",
       "      <th>324</th>\n",
       "      <th>325</th>\n",
       "      <th>326</th>\n",
       "      <th>327</th>\n",
       "      <th>328</th>\n",
       "    </tr>\n",
       "  </thead>\n",
       "  <tbody>\n",
       "    <tr>\n",
       "      <th>0</th>\n",
       "      <td>1</td>\n",
       "      <td>2</td>\n",
       "      <td>3</td>\n",
       "      <td>4</td>\n",
       "      <td>5</td>\n",
       "      <td>6</td>\n",
       "      <td>7</td>\n",
       "      <td>8</td>\n",
       "      <td>9</td>\n",
       "      <td>10</td>\n",
       "      <td>...</td>\n",
       "      <td>0</td>\n",
       "      <td>0</td>\n",
       "      <td>0</td>\n",
       "      <td>0</td>\n",
       "      <td>0</td>\n",
       "      <td>0</td>\n",
       "      <td>0</td>\n",
       "      <td>0</td>\n",
       "      <td>0</td>\n",
       "      <td>0</td>\n",
       "    </tr>\n",
       "    <tr>\n",
       "      <th>1</th>\n",
       "      <td>18</td>\n",
       "      <td>19</td>\n",
       "      <td>20</td>\n",
       "      <td>21</td>\n",
       "      <td>6</td>\n",
       "      <td>22</td>\n",
       "      <td>23</td>\n",
       "      <td>24</td>\n",
       "      <td>25</td>\n",
       "      <td>15</td>\n",
       "      <td>...</td>\n",
       "      <td>0</td>\n",
       "      <td>0</td>\n",
       "      <td>0</td>\n",
       "      <td>0</td>\n",
       "      <td>0</td>\n",
       "      <td>0</td>\n",
       "      <td>0</td>\n",
       "      <td>0</td>\n",
       "      <td>0</td>\n",
       "      <td>0</td>\n",
       "    </tr>\n",
       "    <tr>\n",
       "      <th>2</th>\n",
       "      <td>27</td>\n",
       "      <td>28</td>\n",
       "      <td>29</td>\n",
       "      <td>30</td>\n",
       "      <td>31</td>\n",
       "      <td>6</td>\n",
       "      <td>32</td>\n",
       "      <td>33</td>\n",
       "      <td>0</td>\n",
       "      <td>0</td>\n",
       "      <td>...</td>\n",
       "      <td>0</td>\n",
       "      <td>0</td>\n",
       "      <td>0</td>\n",
       "      <td>0</td>\n",
       "      <td>0</td>\n",
       "      <td>0</td>\n",
       "      <td>0</td>\n",
       "      <td>0</td>\n",
       "      <td>0</td>\n",
       "      <td>0</td>\n",
       "    </tr>\n",
       "    <tr>\n",
       "      <th>3</th>\n",
       "      <td>34</td>\n",
       "      <td>35</td>\n",
       "      <td>36</td>\n",
       "      <td>37</td>\n",
       "      <td>6</td>\n",
       "      <td>38</td>\n",
       "      <td>39</td>\n",
       "      <td>40</td>\n",
       "      <td>41</td>\n",
       "      <td>27</td>\n",
       "      <td>...</td>\n",
       "      <td>0</td>\n",
       "      <td>0</td>\n",
       "      <td>0</td>\n",
       "      <td>0</td>\n",
       "      <td>0</td>\n",
       "      <td>0</td>\n",
       "      <td>0</td>\n",
       "      <td>0</td>\n",
       "      <td>0</td>\n",
       "      <td>0</td>\n",
       "    </tr>\n",
       "    <tr>\n",
       "      <th>4</th>\n",
       "      <td>68</td>\n",
       "      <td>69</td>\n",
       "      <td>70</td>\n",
       "      <td>6</td>\n",
       "      <td>71</td>\n",
       "      <td>15</td>\n",
       "      <td>72</td>\n",
       "      <td>0</td>\n",
       "      <td>0</td>\n",
       "      <td>0</td>\n",
       "      <td>...</td>\n",
       "      <td>0</td>\n",
       "      <td>0</td>\n",
       "      <td>0</td>\n",
       "      <td>0</td>\n",
       "      <td>0</td>\n",
       "      <td>0</td>\n",
       "      <td>0</td>\n",
       "      <td>0</td>\n",
       "      <td>0</td>\n",
       "      <td>0</td>\n",
       "    </tr>\n",
       "    <tr>\n",
       "      <th>...</th>\n",
       "      <td>...</td>\n",
       "      <td>...</td>\n",
       "      <td>...</td>\n",
       "      <td>...</td>\n",
       "      <td>...</td>\n",
       "      <td>...</td>\n",
       "      <td>...</td>\n",
       "      <td>...</td>\n",
       "      <td>...</td>\n",
       "      <td>...</td>\n",
       "      <td>...</td>\n",
       "      <td>...</td>\n",
       "      <td>...</td>\n",
       "      <td>...</td>\n",
       "      <td>...</td>\n",
       "      <td>...</td>\n",
       "      <td>...</td>\n",
       "      <td>...</td>\n",
       "      <td>...</td>\n",
       "      <td>...</td>\n",
       "      <td>...</td>\n",
       "    </tr>\n",
       "    <tr>\n",
       "      <th>95777</th>\n",
       "      <td>27</td>\n",
       "      <td>6117</td>\n",
       "      <td>16</td>\n",
       "      <td>588</td>\n",
       "      <td>6</td>\n",
       "      <td>0</td>\n",
       "      <td>0</td>\n",
       "      <td>0</td>\n",
       "      <td>0</td>\n",
       "      <td>0</td>\n",
       "      <td>...</td>\n",
       "      <td>0</td>\n",
       "      <td>0</td>\n",
       "      <td>0</td>\n",
       "      <td>0</td>\n",
       "      <td>0</td>\n",
       "      <td>0</td>\n",
       "      <td>0</td>\n",
       "      <td>0</td>\n",
       "      <td>0</td>\n",
       "      <td>0</td>\n",
       "    </tr>\n",
       "    <tr>\n",
       "      <th>95778</th>\n",
       "      <td>9549</td>\n",
       "      <td>452</td>\n",
       "      <td>240</td>\n",
       "      <td>6</td>\n",
       "      <td>79</td>\n",
       "      <td>21</td>\n",
       "      <td>0</td>\n",
       "      <td>0</td>\n",
       "      <td>0</td>\n",
       "      <td>0</td>\n",
       "      <td>...</td>\n",
       "      <td>0</td>\n",
       "      <td>0</td>\n",
       "      <td>0</td>\n",
       "      <td>0</td>\n",
       "      <td>0</td>\n",
       "      <td>0</td>\n",
       "      <td>0</td>\n",
       "      <td>0</td>\n",
       "      <td>0</td>\n",
       "      <td>0</td>\n",
       "    </tr>\n",
       "    <tr>\n",
       "      <th>95779</th>\n",
       "      <td>84</td>\n",
       "      <td>3979</td>\n",
       "      <td>568</td>\n",
       "      <td>102</td>\n",
       "      <td>512</td>\n",
       "      <td>6</td>\n",
       "      <td>2850</td>\n",
       "      <td>15</td>\n",
       "      <td>101</td>\n",
       "      <td>0</td>\n",
       "      <td>...</td>\n",
       "      <td>0</td>\n",
       "      <td>0</td>\n",
       "      <td>0</td>\n",
       "      <td>0</td>\n",
       "      <td>0</td>\n",
       "      <td>0</td>\n",
       "      <td>0</td>\n",
       "      <td>0</td>\n",
       "      <td>0</td>\n",
       "      <td>0</td>\n",
       "    </tr>\n",
       "    <tr>\n",
       "      <th>95780</th>\n",
       "      <td>4655</td>\n",
       "      <td>668</td>\n",
       "      <td>8283</td>\n",
       "      <td>1696</td>\n",
       "      <td>322</td>\n",
       "      <td>913</td>\n",
       "      <td>6</td>\n",
       "      <td>172</td>\n",
       "      <td>199</td>\n",
       "      <td>45</td>\n",
       "      <td>...</td>\n",
       "      <td>0</td>\n",
       "      <td>0</td>\n",
       "      <td>0</td>\n",
       "      <td>0</td>\n",
       "      <td>0</td>\n",
       "      <td>0</td>\n",
       "      <td>0</td>\n",
       "      <td>0</td>\n",
       "      <td>0</td>\n",
       "      <td>0</td>\n",
       "    </tr>\n",
       "    <tr>\n",
       "      <th>95781</th>\n",
       "      <td>27</td>\n",
       "      <td>73</td>\n",
       "      <td>2381</td>\n",
       "      <td>6</td>\n",
       "      <td>3268</td>\n",
       "      <td>665</td>\n",
       "      <td>25</td>\n",
       "      <td>15</td>\n",
       "      <td>79</td>\n",
       "      <td>1258</td>\n",
       "      <td>...</td>\n",
       "      <td>0</td>\n",
       "      <td>0</td>\n",
       "      <td>0</td>\n",
       "      <td>0</td>\n",
       "      <td>0</td>\n",
       "      <td>0</td>\n",
       "      <td>0</td>\n",
       "      <td>0</td>\n",
       "      <td>0</td>\n",
       "      <td>0</td>\n",
       "    </tr>\n",
       "  </tbody>\n",
       "</table>\n",
       "<p>95782 rows × 329 columns</p>\n",
       "</div>"
      ],
      "text/plain": [
       "        0     1     2     3     4    5     6    7    8     9    ...  319  320  \\\n",
       "0         1     2     3     4     5    6     7    8    9    10  ...    0    0   \n",
       "1        18    19    20    21     6   22    23   24   25    15  ...    0    0   \n",
       "2        27    28    29    30    31    6    32   33    0     0  ...    0    0   \n",
       "3        34    35    36    37     6   38    39   40   41    27  ...    0    0   \n",
       "4        68    69    70     6    71   15    72    0    0     0  ...    0    0   \n",
       "...     ...   ...   ...   ...   ...  ...   ...  ...  ...   ...  ...  ...  ...   \n",
       "95777    27  6117    16   588     6    0     0    0    0     0  ...    0    0   \n",
       "95778  9549   452   240     6    79   21     0    0    0     0  ...    0    0   \n",
       "95779    84  3979   568   102   512    6  2850   15  101     0  ...    0    0   \n",
       "95780  4655   668  8283  1696   322  913     6  172  199    45  ...    0    0   \n",
       "95781    27    73  2381     6  3268  665    25   15   79  1258  ...    0    0   \n",
       "\n",
       "       321  322  323  324  325  326  327  328  \n",
       "0        0    0    0    0    0    0    0    0  \n",
       "1        0    0    0    0    0    0    0    0  \n",
       "2        0    0    0    0    0    0    0    0  \n",
       "3        0    0    0    0    0    0    0    0  \n",
       "4        0    0    0    0    0    0    0    0  \n",
       "...    ...  ...  ...  ...  ...  ...  ...  ...  \n",
       "95777    0    0    0    0    0    0    0    0  \n",
       "95778    0    0    0    0    0    0    0    0  \n",
       "95779    0    0    0    0    0    0    0    0  \n",
       "95780    0    0    0    0    0    0    0    0  \n",
       "95781    0    0    0    0    0    0    0    0  \n",
       "\n",
       "[95782 rows x 329 columns]"
      ]
     },
     "execution_count": 14,
     "metadata": {},
     "output_type": "execute_result"
    }
   ],
   "source": [
    "SWX = pd.DataFrame(X)\n",
    "SWX = SWX.astype(int)\n",
    "SWX"
   ]
  },
  {
   "cell_type": "code",
   "execution_count": 17,
   "metadata": {},
   "outputs": [
    {
     "data": {
      "text/plain": [
       "(95782, 329)"
      ]
     },
     "execution_count": 17,
     "metadata": {},
     "output_type": "execute_result"
    }
   ],
   "source": [
    "X = SWX\n",
    "X.shape"
   ]
  },
  {
   "cell_type": "code",
   "execution_count": 18,
   "metadata": {},
   "outputs": [],
   "source": [
    "Y = SWurl['label']"
   ]
  },
  {
   "cell_type": "code",
   "execution_count": 19,
   "metadata": {},
   "outputs": [
    {
     "data": {
      "text/plain": [
       "(95782,)"
      ]
     },
     "execution_count": 19,
     "metadata": {},
     "output_type": "execute_result"
    }
   ],
   "source": [
    "Y.shape"
   ]
  },
  {
   "cell_type": "code",
   "execution_count": 20,
   "metadata": {},
   "outputs": [
    {
     "name": "stderr",
     "output_type": "stream",
     "text": [
      "C:\\Users\\User\\anaconda3\\lib\\site-packages\\scipy\\__init__.py:173: UserWarning: A NumPy version >=1.19.5 and <1.27.0 is required for this version of SciPy (detected version 1.19.2)\n",
      "  warnings.warn(f\"A NumPy version >={np_minversion} and <{np_maxversion}\"\n"
     ]
    }
   ],
   "source": [
    "from sklearn.model_selection import train_test_split\n",
    "Xtrain, Xtest, ytrain, ytest = train_test_split(X, Y, test_size=0.2, random_state=42)"
   ]
  },
  {
   "cell_type": "code",
   "execution_count": 21,
   "metadata": {},
   "outputs": [
    {
     "data": {
      "text/plain": [
       "((76625, 329), 76625)"
      ]
     },
     "execution_count": 21,
     "metadata": {},
     "output_type": "execute_result"
    }
   ],
   "source": [
    "Xtrain.shape, len(ytrain)"
   ]
  },
  {
   "cell_type": "code",
   "execution_count": 22,
   "metadata": {},
   "outputs": [
    {
     "data": {
      "text/plain": [
       "((19157, 329), 19157)"
      ]
     },
     "execution_count": 22,
     "metadata": {},
     "output_type": "execute_result"
    }
   ],
   "source": [
    "Xtest.shape, len(ytest)"
   ]
  },
  {
   "cell_type": "code",
   "execution_count": 23,
   "metadata": {},
   "outputs": [],
   "source": [
    "vocab_size = 14222\n",
    "maxLength = 329"
   ]
  },
  {
   "cell_type": "code",
   "execution_count": 24,
   "metadata": {},
   "outputs": [],
   "source": [
    "from keras.models import Sequential\n",
    "from keras.layers import Dense\n",
    "from keras.layers import LSTM\n",
    "from keras.layers.embeddings import Embedding\n",
    "from keras.layers.convolutional import Conv1D\n",
    "from keras.layers.convolutional import MaxPooling1D\n",
    "from keras.layers import SpatialDropout1D\n",
    "from keras.preprocessing import sequence\n",
    "from keras.layers import Dropout\n",
    "from keras.callbacks import EarlyStopping\n",
    "from keras.layers import GaussianNoise\n",
    "from keras.layers import Bidirectional\n",
    "from keras.regularizers import l1, l2, l1_l2"
   ]
  },
  {
   "cell_type": "code",
   "execution_count": 25,
   "metadata": {},
   "outputs": [
    {
     "name": "stdout",
     "output_type": "stream",
     "text": [
      "Model: \"sequential\"\n",
      "_________________________________________________________________\n",
      "Layer (type)                 Output Shape              Param #   \n",
      "=================================================================\n",
      "embedding (Embedding)        (None, 329, 100)          1422200   \n",
      "_________________________________________________________________\n",
      "dropout (Dropout)            (None, 329, 100)          0         \n",
      "_________________________________________________________________\n",
      "gaussian_noise (GaussianNois (None, 329, 100)          0         \n",
      "_________________________________________________________________\n",
      "bidirectional (Bidirectional (None, 256)               234496    \n",
      "_________________________________________________________________\n",
      "dense (Dense)                (None, 64)                16448     \n",
      "_________________________________________________________________\n",
      "dense_1 (Dense)              (None, 1)                 65        \n",
      "=================================================================\n",
      "Total params: 1,673,209\n",
      "Trainable params: 1,673,209\n",
      "Non-trainable params: 0\n",
      "_________________________________________________________________\n",
      "None\n",
      "Epoch 1/10\n",
      "2395/2395 [==============================] - 3251s 1s/step - loss: 0.3495 - accuracy: 0.8277 - val_loss: 0.1216 - val_accuracy: 0.9545\n",
      "Epoch 2/10\n",
      "2395/2395 [==============================] - 1906s 796ms/step - loss: 0.1395 - accuracy: 0.9463 - val_loss: 0.0885 - val_accuracy: 0.9686\n",
      "Epoch 3/10\n",
      "2395/2395 [==============================] - 1787s 746ms/step - loss: 0.1013 - accuracy: 0.9627 - val_loss: 0.0808 - val_accuracy: 0.9720\n",
      "Epoch 4/10\n",
      "2395/2395 [==============================] - 1786s 746ms/step - loss: 0.0802 - accuracy: 0.9704 - val_loss: 0.0763 - val_accuracy: 0.9745\n",
      "Epoch 5/10\n",
      "2395/2395 [==============================] - 1811s 756ms/step - loss: 0.0676 - accuracy: 0.9750 - val_loss: 0.0749 - val_accuracy: 0.9757\n",
      "Epoch 6/10\n",
      "2395/2395 [==============================] - 1833s 765ms/step - loss: 0.0573 - accuracy: 0.9797 - val_loss: 0.0738 - val_accuracy: 0.9745\n",
      "Epoch 7/10\n",
      "2395/2395 [==============================] - 1823s 761ms/step - loss: 0.0508 - accuracy: 0.9822 - val_loss: 0.0718 - val_accuracy: 0.9773\n",
      "Epoch 8/10\n",
      "2395/2395 [==============================] - 1838s 767ms/step - loss: 0.0458 - accuracy: 0.9834 - val_loss: 0.0727 - val_accuracy: 0.9771\n",
      "Epoch 9/10\n",
      "2395/2395 [==============================] - 1840s 768ms/step - loss: 0.0422 - accuracy: 0.9835 - val_loss: 0.0733 - val_accuracy: 0.9757\n",
      "Epoch 10/10\n",
      "2395/2395 [==============================] - 2291s 956ms/step - loss: 0.0369 - accuracy: 0.9872 - val_loss: 0.0679 - val_accuracy: 0.9784\n",
      "time for training the model = 20165 sec\n",
      "Test Accuracy: 97.844130\n",
      "Test Loss: 6.794640\n"
     ]
    }
   ],
   "source": [
    "model = Sequential()\n",
    "\n",
    "model.add(Embedding(vocab_size, 100, input_length=maxLength))\n",
    "model.add(Dropout(0.4))\n",
    "model.add(GaussianNoise(0.5))\n",
    "model.add(Bidirectional(LSTM(128, activation='tanh', recurrent_dropout=0.4))) #, kernel_regularizer=l2(l2=0.01)\n",
    "model.add(Dense(64, activation='tanh'))\n",
    "model.add(Dense(1, activation='sigmoid'))\n",
    "model.compile(loss='binary_crossentropy', optimizer='adam', metrics=['accuracy'])\n",
    "print(model.summary())\n",
    "\n",
    "import time\n",
    "start=time.time()\n",
    "\n",
    "history = model.fit(Xtrain, ytrain, validation_data=(Xtest, ytest), epochs=10, verbose=1) \n",
    "print('time for training the model = {:.0f} sec'.format(time.time()-start))\n",
    "# evaluate\n",
    "loss, acc = model.evaluate(Xtest, ytest, verbose=0)\n",
    "print('Test Accuracy: %f' % (acc*100))\n",
    "print('Test Loss: %f' % (loss*100))"
   ]
  },
  {
   "cell_type": "code",
   "execution_count": 26,
   "metadata": {},
   "outputs": [
    {
     "name": "stdout",
     "output_type": "stream",
     "text": [
      "[[9430  157]\n",
      " [ 256 9314]]\n"
     ]
    }
   ],
   "source": [
    "from sklearn.metrics import confusion_matrix\n",
    "y_pred = model.predict(Xtest)\n",
    "print(confusion_matrix(ytest, np.rint(y_pred)))"
   ]
  },
  {
   "cell_type": "code",
   "execution_count": 27,
   "metadata": {},
   "outputs": [],
   "source": [
    "model.save(\"../saved_models/Subword-biLSTM_iter10.h5\")"
   ]
  },
  {
   "cell_type": "code",
   "execution_count": 28,
   "metadata": {},
   "outputs": [
    {
     "name": "stdout",
     "output_type": "stream",
     "text": [
      "Epoch 1/5\n",
      "2395/2395 [==============================] - 1831s 765ms/step - loss: 0.0356 - accuracy: 0.9874 - val_loss: 0.0706 - val_accuracy: 0.9780\n",
      "Epoch 2/5\n",
      "2395/2395 [==============================] - 1833s 765ms/step - loss: 0.0308 - accuracy: 0.9890 - val_loss: 0.0761 - val_accuracy: 0.9780\n",
      "Epoch 3/5\n",
      "2395/2395 [==============================] - 1836s 767ms/step - loss: 0.0281 - accuracy: 0.9901 - val_loss: 0.0755 - val_accuracy: 0.9789\n",
      "Epoch 4/5\n",
      "2395/2395 [==============================] - 1837s 767ms/step - loss: 0.0280 - accuracy: 0.9899 - val_loss: 0.0831 - val_accuracy: 0.9784\n",
      "Epoch 5/5\n",
      "2395/2395 [==============================] - 1838s 767ms/step - loss: 0.0249 - accuracy: 0.9909 - val_loss: 0.0778 - val_accuracy: 0.9796\n",
      "time for training the model = 29415 sec\n",
      "Test Accuracy: 97.958970\n",
      "Test Loss: 7.779622\n"
     ]
    }
   ],
   "source": [
    "history2 = model.fit(Xtrain, ytrain, validation_data=(Xtest, ytest), epochs=5, verbose=1) \n",
    "\n",
    "print('time for training the model = {:.0f} sec'.format(time.time()-start))\n",
    "# evaluate\n",
    "loss, acc = model.evaluate(Xtest, ytest, verbose=0)\n",
    "print('Test Accuracy: %f' % (acc*100))\n",
    "print('Test Loss: %f' % (loss*100))"
   ]
  },
  {
   "cell_type": "code",
   "execution_count": 29,
   "metadata": {},
   "outputs": [
    {
     "name": "stdout",
     "output_type": "stream",
     "text": [
      "[[9403  184]\n",
      " [ 207 9363]]\n"
     ]
    }
   ],
   "source": [
    "from sklearn.metrics import confusion_matrix\n",
    "y_pred = model.predict(Xtest)\n",
    "print(confusion_matrix(ytest, np.rint(y_pred)))"
   ]
  },
  {
   "cell_type": "code",
   "execution_count": 30,
   "metadata": {},
   "outputs": [],
   "source": [
    "model.save(\"../saved_models/Subword-biLSTM_iter15.h5\")"
   ]
  },
  {
   "cell_type": "code",
   "execution_count": null,
   "metadata": {},
   "outputs": [],
   "source": []
  }
 ],
 "metadata": {
  "kernelspec": {
   "display_name": "Python 3 (ipykernel)",
   "language": "python",
   "name": "python3"
  },
  "language_info": {
   "codemirror_mode": {
    "name": "ipython",
    "version": 3
   },
   "file_extension": ".py",
   "mimetype": "text/x-python",
   "name": "python",
   "nbconvert_exporter": "python",
   "pygments_lexer": "ipython3",
   "version": "3.11.5"
  }
 },
 "nbformat": 4,
 "nbformat_minor": 4
}
