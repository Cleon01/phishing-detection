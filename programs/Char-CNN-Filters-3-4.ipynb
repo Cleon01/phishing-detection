{
 "cells": [
  {
   "cell_type": "code",
   "execution_count": 1,
   "metadata": {},
   "outputs": [],
   "source": [
    "import numpy as np\n",
    "import pandas as pd\n",
    "from sklearn.preprocessing import LabelEncoder\n",
    "import matplotlib.pyplot as plt"
   ]
  },
  {
   "cell_type": "code",
   "execution_count": 2,
   "metadata": {},
   "outputs": [],
   "source": [
    "urldata = pd.read_csv('../data/processed_IEEEData.csv')"
   ]
  },
  {
   "cell_type": "code",
   "execution_count": 3,
   "metadata": {
    "scrolled": true
   },
   "outputs": [
    {
     "data": {
      "text/html": [
       "<div>\n",
       "<style scoped>\n",
       "    .dataframe tbody tr th:only-of-type {\n",
       "        vertical-align: middle;\n",
       "    }\n",
       "\n",
       "    .dataframe tbody tr th {\n",
       "        vertical-align: top;\n",
       "    }\n",
       "\n",
       "    .dataframe thead th {\n",
       "        text-align: right;\n",
       "    }\n",
       "</style>\n",
       "<table border=\"1\" class=\"dataframe\">\n",
       "  <thead>\n",
       "    <tr style=\"text-align: right;\">\n",
       "      <th></th>\n",
       "      <th>index</th>\n",
       "      <th>url</th>\n",
       "      <th>label</th>\n",
       "    </tr>\n",
       "  </thead>\n",
       "  <tbody>\n",
       "    <tr>\n",
       "      <th>0</th>\n",
       "      <td>30845</td>\n",
       "      <td>belajarprogramming.com/newpaypal/loggy/paypal.htm</td>\n",
       "      <td>1</td>\n",
       "    </tr>\n",
       "    <tr>\n",
       "      <th>1</th>\n",
       "      <td>25750</td>\n",
       "      <td>ninedotlabs.com/att2/index.php</td>\n",
       "      <td>1</td>\n",
       "    </tr>\n",
       "    <tr>\n",
       "      <th>2</th>\n",
       "      <td>91832</td>\n",
       "      <td>www.almostfabulous.com/youker/</td>\n",
       "      <td>0</td>\n",
       "    </tr>\n",
       "    <tr>\n",
       "      <th>3</th>\n",
       "      <td>29165</td>\n",
       "      <td>stbcomputer.com/autodesk/components/www.paypal...</td>\n",
       "      <td>1</td>\n",
       "    </tr>\n",
       "    <tr>\n",
       "      <th>4</th>\n",
       "      <td>52012</td>\n",
       "      <td>members.tripod.com/chang.ling/</td>\n",
       "      <td>0</td>\n",
       "    </tr>\n",
       "    <tr>\n",
       "      <th>...</th>\n",
       "      <td>...</td>\n",
       "      <td>...</td>\n",
       "      <td>...</td>\n",
       "    </tr>\n",
       "    <tr>\n",
       "      <th>95777</th>\n",
       "      <td>86523</td>\n",
       "      <td>www.winehq.com/?interview=14</td>\n",
       "      <td>0</td>\n",
       "    </tr>\n",
       "    <tr>\n",
       "      <th>95778</th>\n",
       "      <td>45352</td>\n",
       "      <td>2933517.com/js</td>\n",
       "      <td>1</td>\n",
       "    </tr>\n",
       "    <tr>\n",
       "      <th>95779</th>\n",
       "      <td>34852</td>\n",
       "      <td>imajinsmiles.com/Questions.html?cmd=_Questions...</td>\n",
       "      <td>1</td>\n",
       "    </tr>\n",
       "    <tr>\n",
       "      <th>95780</th>\n",
       "      <td>7754</td>\n",
       "      <td>thesecondhalfonline.com/wp-includes/js/tinymce...</td>\n",
       "      <td>1</td>\n",
       "    </tr>\n",
       "    <tr>\n",
       "      <th>95781</th>\n",
       "      <td>79751</td>\n",
       "      <td>www.informationweek.com/whitepaper/index.jhtml...</td>\n",
       "      <td>0</td>\n",
       "    </tr>\n",
       "  </tbody>\n",
       "</table>\n",
       "<p>95782 rows × 3 columns</p>\n",
       "</div>"
      ],
      "text/plain": [
       "       index                                                url  label\n",
       "0      30845  belajarprogramming.com/newpaypal/loggy/paypal.htm      1\n",
       "1      25750                     ninedotlabs.com/att2/index.php      1\n",
       "2      91832                     www.almostfabulous.com/youker/      0\n",
       "3      29165  stbcomputer.com/autodesk/components/www.paypal...      1\n",
       "4      52012                     members.tripod.com/chang.ling/      0\n",
       "...      ...                                                ...    ...\n",
       "95777  86523                       www.winehq.com/?interview=14      0\n",
       "95778  45352                                     2933517.com/js      1\n",
       "95779  34852  imajinsmiles.com/Questions.html?cmd=_Questions...      1\n",
       "95780   7754  thesecondhalfonline.com/wp-includes/js/tinymce...      1\n",
       "95781  79751  www.informationweek.com/whitepaper/index.jhtml...      0\n",
       "\n",
       "[95782 rows x 3 columns]"
      ]
     },
     "execution_count": 3,
     "metadata": {},
     "output_type": "execute_result"
    }
   ],
   "source": [
    "urldata"
   ]
  },
  {
   "cell_type": "code",
   "execution_count": 3,
   "metadata": {},
   "outputs": [
    {
     "name": "stderr",
     "output_type": "stream",
     "text": [
      "<ipython-input-3-a9de932e6da7>:6: SettingWithCopyWarning: \n",
      "A value is trying to be set on a copy of a slice from a DataFrame\n",
      "\n",
      "See the caveats in the documentation: https://pandas.pydata.org/pandas-docs/stable/user_guide/indexing.html#returning-a-view-versus-a-copy\n",
      "  urldata['m_url'][x] = 'http://' + urldata['url'][x]\n"
     ]
    }
   ],
   "source": [
    "urldata['m_url'] = urldata['url'].apply(lambda i: i)\n",
    "\n",
    "for x in range(len(urldata['url'])):\n",
    "    t = urldata['url'][x]\n",
    "    if not (t.startswith('http://') or t.startswith('https://') or t.startswith('ftp://')):\n",
    "        urldata['m_url'][x] = 'http://' + urldata['url'][x]"
   ]
  },
  {
   "cell_type": "code",
   "execution_count": 5,
   "metadata": {},
   "outputs": [
    {
     "data": {
      "text/html": [
       "<div>\n",
       "<style scoped>\n",
       "    .dataframe tbody tr th:only-of-type {\n",
       "        vertical-align: middle;\n",
       "    }\n",
       "\n",
       "    .dataframe tbody tr th {\n",
       "        vertical-align: top;\n",
       "    }\n",
       "\n",
       "    .dataframe thead th {\n",
       "        text-align: right;\n",
       "    }\n",
       "</style>\n",
       "<table border=\"1\" class=\"dataframe\">\n",
       "  <thead>\n",
       "    <tr style=\"text-align: right;\">\n",
       "      <th></th>\n",
       "      <th>index</th>\n",
       "      <th>url</th>\n",
       "      <th>label</th>\n",
       "      <th>m_url</th>\n",
       "    </tr>\n",
       "  </thead>\n",
       "  <tbody>\n",
       "    <tr>\n",
       "      <th>0</th>\n",
       "      <td>30845</td>\n",
       "      <td>belajarprogramming.com/newpaypal/loggy/paypal.htm</td>\n",
       "      <td>1</td>\n",
       "      <td>http://belajarprogramming.com/newpaypal/loggy/...</td>\n",
       "    </tr>\n",
       "    <tr>\n",
       "      <th>1</th>\n",
       "      <td>25750</td>\n",
       "      <td>ninedotlabs.com/att2/index.php</td>\n",
       "      <td>1</td>\n",
       "      <td>http://ninedotlabs.com/att2/index.php</td>\n",
       "    </tr>\n",
       "    <tr>\n",
       "      <th>2</th>\n",
       "      <td>91832</td>\n",
       "      <td>www.almostfabulous.com/youker/</td>\n",
       "      <td>0</td>\n",
       "      <td>http://www.almostfabulous.com/youker/</td>\n",
       "    </tr>\n",
       "    <tr>\n",
       "      <th>3</th>\n",
       "      <td>29165</td>\n",
       "      <td>stbcomputer.com/autodesk/components/www.paypal...</td>\n",
       "      <td>1</td>\n",
       "      <td>http://stbcomputer.com/autodesk/components/www...</td>\n",
       "    </tr>\n",
       "    <tr>\n",
       "      <th>4</th>\n",
       "      <td>52012</td>\n",
       "      <td>members.tripod.com/chang.ling/</td>\n",
       "      <td>0</td>\n",
       "      <td>http://members.tripod.com/chang.ling/</td>\n",
       "    </tr>\n",
       "    <tr>\n",
       "      <th>...</th>\n",
       "      <td>...</td>\n",
       "      <td>...</td>\n",
       "      <td>...</td>\n",
       "      <td>...</td>\n",
       "    </tr>\n",
       "    <tr>\n",
       "      <th>95777</th>\n",
       "      <td>86523</td>\n",
       "      <td>www.winehq.com/?interview=14</td>\n",
       "      <td>0</td>\n",
       "      <td>http://www.winehq.com/?interview=14</td>\n",
       "    </tr>\n",
       "    <tr>\n",
       "      <th>95778</th>\n",
       "      <td>45352</td>\n",
       "      <td>2933517.com/js</td>\n",
       "      <td>1</td>\n",
       "      <td>http://2933517.com/js</td>\n",
       "    </tr>\n",
       "    <tr>\n",
       "      <th>95779</th>\n",
       "      <td>34852</td>\n",
       "      <td>imajinsmiles.com/Questions.html?cmd=_Questions...</td>\n",
       "      <td>1</td>\n",
       "      <td>http://imajinsmiles.com/Questions.html?cmd=_Qu...</td>\n",
       "    </tr>\n",
       "    <tr>\n",
       "      <th>95780</th>\n",
       "      <td>7754</td>\n",
       "      <td>thesecondhalfonline.com/wp-includes/js/tinymce...</td>\n",
       "      <td>1</td>\n",
       "      <td>http://thesecondhalfonline.com/wp-includes/js/...</td>\n",
       "    </tr>\n",
       "    <tr>\n",
       "      <th>95781</th>\n",
       "      <td>79751</td>\n",
       "      <td>www.informationweek.com/whitepaper/index.jhtml...</td>\n",
       "      <td>0</td>\n",
       "      <td>http://www.informationweek.com/whitepaper/inde...</td>\n",
       "    </tr>\n",
       "  </tbody>\n",
       "</table>\n",
       "<p>95782 rows × 4 columns</p>\n",
       "</div>"
      ],
      "text/plain": [
       "       index                                                url  label  \\\n",
       "0      30845  belajarprogramming.com/newpaypal/loggy/paypal.htm      1   \n",
       "1      25750                     ninedotlabs.com/att2/index.php      1   \n",
       "2      91832                     www.almostfabulous.com/youker/      0   \n",
       "3      29165  stbcomputer.com/autodesk/components/www.paypal...      1   \n",
       "4      52012                     members.tripod.com/chang.ling/      0   \n",
       "...      ...                                                ...    ...   \n",
       "95777  86523                       www.winehq.com/?interview=14      0   \n",
       "95778  45352                                     2933517.com/js      1   \n",
       "95779  34852  imajinsmiles.com/Questions.html?cmd=_Questions...      1   \n",
       "95780   7754  thesecondhalfonline.com/wp-includes/js/tinymce...      1   \n",
       "95781  79751  www.informationweek.com/whitepaper/index.jhtml...      0   \n",
       "\n",
       "                                                   m_url  \n",
       "0      http://belajarprogramming.com/newpaypal/loggy/...  \n",
       "1                  http://ninedotlabs.com/att2/index.php  \n",
       "2                  http://www.almostfabulous.com/youker/  \n",
       "3      http://stbcomputer.com/autodesk/components/www...  \n",
       "4                  http://members.tripod.com/chang.ling/  \n",
       "...                                                  ...  \n",
       "95777                http://www.winehq.com/?interview=14  \n",
       "95778                              http://2933517.com/js  \n",
       "95779  http://imajinsmiles.com/Questions.html?cmd=_Qu...  \n",
       "95780  http://thesecondhalfonline.com/wp-includes/js/...  \n",
       "95781  http://www.informationweek.com/whitepaper/inde...  \n",
       "\n",
       "[95782 rows x 4 columns]"
      ]
     },
     "execution_count": 5,
     "metadata": {},
     "output_type": "execute_result"
    }
   ],
   "source": [
    "urldata"
   ]
  },
  {
   "cell_type": "code",
   "execution_count": 4,
   "metadata": {},
   "outputs": [],
   "source": [
    "#Divide the URL into three parts: (1) subdomain/domain (2) path/file (3) query\n",
    "#Importing dependencies\n",
    "from urllib.parse import urlparse\n",
    "import os.path\n",
    "\n",
    "#find out the hostname from the url\n",
    "urldata['hostname'] = urldata['m_url'].apply(lambda i: urlparse(i).netloc)\n",
    "\n",
    "#find out the path from the url\n",
    "urldata['path'] = urldata['m_url'].apply(lambda i: urlparse(i).path)\n",
    "\n",
    "urldata['query'] = urldata['m_url'].apply(lambda i: urlparse(i).query)"
   ]
  },
  {
   "cell_type": "code",
   "execution_count": 7,
   "metadata": {},
   "outputs": [
    {
     "data": {
      "text/html": [
       "<div>\n",
       "<style scoped>\n",
       "    .dataframe tbody tr th:only-of-type {\n",
       "        vertical-align: middle;\n",
       "    }\n",
       "\n",
       "    .dataframe tbody tr th {\n",
       "        vertical-align: top;\n",
       "    }\n",
       "\n",
       "    .dataframe thead th {\n",
       "        text-align: right;\n",
       "    }\n",
       "</style>\n",
       "<table border=\"1\" class=\"dataframe\">\n",
       "  <thead>\n",
       "    <tr style=\"text-align: right;\">\n",
       "      <th></th>\n",
       "      <th>index</th>\n",
       "      <th>url</th>\n",
       "      <th>label</th>\n",
       "      <th>m_url</th>\n",
       "      <th>hostname</th>\n",
       "      <th>path</th>\n",
       "      <th>query</th>\n",
       "    </tr>\n",
       "  </thead>\n",
       "  <tbody>\n",
       "    <tr>\n",
       "      <th>0</th>\n",
       "      <td>30845</td>\n",
       "      <td>belajarprogramming.com/newpaypal/loggy/paypal.htm</td>\n",
       "      <td>1</td>\n",
       "      <td>http://belajarprogramming.com/newpaypal/loggy/...</td>\n",
       "      <td>belajarprogramming.com</td>\n",
       "      <td>/newpaypal/loggy/paypal.htm</td>\n",
       "      <td></td>\n",
       "    </tr>\n",
       "    <tr>\n",
       "      <th>1</th>\n",
       "      <td>25750</td>\n",
       "      <td>ninedotlabs.com/att2/index.php</td>\n",
       "      <td>1</td>\n",
       "      <td>http://ninedotlabs.com/att2/index.php</td>\n",
       "      <td>ninedotlabs.com</td>\n",
       "      <td>/att2/index.php</td>\n",
       "      <td></td>\n",
       "    </tr>\n",
       "    <tr>\n",
       "      <th>2</th>\n",
       "      <td>91832</td>\n",
       "      <td>www.almostfabulous.com/youker/</td>\n",
       "      <td>0</td>\n",
       "      <td>http://www.almostfabulous.com/youker/</td>\n",
       "      <td>www.almostfabulous.com</td>\n",
       "      <td>/youker/</td>\n",
       "      <td></td>\n",
       "    </tr>\n",
       "    <tr>\n",
       "      <th>3</th>\n",
       "      <td>29165</td>\n",
       "      <td>stbcomputer.com/autodesk/components/www.paypal...</td>\n",
       "      <td>1</td>\n",
       "      <td>http://stbcomputer.com/autodesk/components/www...</td>\n",
       "      <td>stbcomputer.com</td>\n",
       "      <td>/autodesk/components/www.paypal.com/dk/cgi-bin...</td>\n",
       "      <td></td>\n",
       "    </tr>\n",
       "    <tr>\n",
       "      <th>4</th>\n",
       "      <td>52012</td>\n",
       "      <td>members.tripod.com/chang.ling/</td>\n",
       "      <td>0</td>\n",
       "      <td>http://members.tripod.com/chang.ling/</td>\n",
       "      <td>members.tripod.com</td>\n",
       "      <td>/chang.ling/</td>\n",
       "      <td></td>\n",
       "    </tr>\n",
       "    <tr>\n",
       "      <th>...</th>\n",
       "      <td>...</td>\n",
       "      <td>...</td>\n",
       "      <td>...</td>\n",
       "      <td>...</td>\n",
       "      <td>...</td>\n",
       "      <td>...</td>\n",
       "      <td>...</td>\n",
       "    </tr>\n",
       "    <tr>\n",
       "      <th>95777</th>\n",
       "      <td>86523</td>\n",
       "      <td>www.winehq.com/?interview=14</td>\n",
       "      <td>0</td>\n",
       "      <td>http://www.winehq.com/?interview=14</td>\n",
       "      <td>www.winehq.com</td>\n",
       "      <td>/</td>\n",
       "      <td>interview=14</td>\n",
       "    </tr>\n",
       "    <tr>\n",
       "      <th>95778</th>\n",
       "      <td>45352</td>\n",
       "      <td>2933517.com/js</td>\n",
       "      <td>1</td>\n",
       "      <td>http://2933517.com/js</td>\n",
       "      <td>2933517.com</td>\n",
       "      <td>/js</td>\n",
       "      <td></td>\n",
       "    </tr>\n",
       "    <tr>\n",
       "      <th>95779</th>\n",
       "      <td>34852</td>\n",
       "      <td>imajinsmiles.com/Questions.html?cmd=_Questions...</td>\n",
       "      <td>1</td>\n",
       "      <td>http://imajinsmiles.com/Questions.html?cmd=_Qu...</td>\n",
       "      <td>imajinsmiles.com</td>\n",
       "      <td>/Questions.html</td>\n",
       "      <td>cmd=_Questions&amp;amp;dispatch=5885d80a13c0db1fb6...</td>\n",
       "    </tr>\n",
       "    <tr>\n",
       "      <th>95780</th>\n",
       "      <td>7754</td>\n",
       "      <td>thesecondhalfonline.com/wp-includes/js/tinymce...</td>\n",
       "      <td>1</td>\n",
       "      <td>http://thesecondhalfonline.com/wp-includes/js/...</td>\n",
       "      <td>thesecondhalfonline.com</td>\n",
       "      <td>/wp-includes/js/tinymce/remository.utilitie.htm</td>\n",
       "      <td></td>\n",
       "    </tr>\n",
       "    <tr>\n",
       "      <th>95781</th>\n",
       "      <td>79751</td>\n",
       "      <td>www.informationweek.com/whitepaper/index.jhtml...</td>\n",
       "      <td>0</td>\n",
       "      <td>http://www.informationweek.com/whitepaper/inde...</td>\n",
       "      <td>www.informationweek.com</td>\n",
       "      <td>/whitepaper/index.jhtml</td>\n",
       "      <td>catID=200001</td>\n",
       "    </tr>\n",
       "  </tbody>\n",
       "</table>\n",
       "<p>95782 rows × 7 columns</p>\n",
       "</div>"
      ],
      "text/plain": [
       "       index                                                url  label  \\\n",
       "0      30845  belajarprogramming.com/newpaypal/loggy/paypal.htm      1   \n",
       "1      25750                     ninedotlabs.com/att2/index.php      1   \n",
       "2      91832                     www.almostfabulous.com/youker/      0   \n",
       "3      29165  stbcomputer.com/autodesk/components/www.paypal...      1   \n",
       "4      52012                     members.tripod.com/chang.ling/      0   \n",
       "...      ...                                                ...    ...   \n",
       "95777  86523                       www.winehq.com/?interview=14      0   \n",
       "95778  45352                                     2933517.com/js      1   \n",
       "95779  34852  imajinsmiles.com/Questions.html?cmd=_Questions...      1   \n",
       "95780   7754  thesecondhalfonline.com/wp-includes/js/tinymce...      1   \n",
       "95781  79751  www.informationweek.com/whitepaper/index.jhtml...      0   \n",
       "\n",
       "                                                   m_url  \\\n",
       "0      http://belajarprogramming.com/newpaypal/loggy/...   \n",
       "1                  http://ninedotlabs.com/att2/index.php   \n",
       "2                  http://www.almostfabulous.com/youker/   \n",
       "3      http://stbcomputer.com/autodesk/components/www...   \n",
       "4                  http://members.tripod.com/chang.ling/   \n",
       "...                                                  ...   \n",
       "95777                http://www.winehq.com/?interview=14   \n",
       "95778                              http://2933517.com/js   \n",
       "95779  http://imajinsmiles.com/Questions.html?cmd=_Qu...   \n",
       "95780  http://thesecondhalfonline.com/wp-includes/js/...   \n",
       "95781  http://www.informationweek.com/whitepaper/inde...   \n",
       "\n",
       "                      hostname  \\\n",
       "0       belajarprogramming.com   \n",
       "1              ninedotlabs.com   \n",
       "2       www.almostfabulous.com   \n",
       "3              stbcomputer.com   \n",
       "4           members.tripod.com   \n",
       "...                        ...   \n",
       "95777           www.winehq.com   \n",
       "95778              2933517.com   \n",
       "95779         imajinsmiles.com   \n",
       "95780  thesecondhalfonline.com   \n",
       "95781  www.informationweek.com   \n",
       "\n",
       "                                                    path  \\\n",
       "0                            /newpaypal/loggy/paypal.htm   \n",
       "1                                        /att2/index.php   \n",
       "2                                               /youker/   \n",
       "3      /autodesk/components/www.paypal.com/dk/cgi-bin...   \n",
       "4                                           /chang.ling/   \n",
       "...                                                  ...   \n",
       "95777                                                  /   \n",
       "95778                                                /js   \n",
       "95779                                    /Questions.html   \n",
       "95780    /wp-includes/js/tinymce/remository.utilitie.htm   \n",
       "95781                            /whitepaper/index.jhtml   \n",
       "\n",
       "                                                   query  \n",
       "0                                                         \n",
       "1                                                         \n",
       "2                                                         \n",
       "3                                                         \n",
       "4                                                         \n",
       "...                                                  ...  \n",
       "95777                                       interview=14  \n",
       "95778                                                     \n",
       "95779  cmd=_Questions&amp;dispatch=5885d80a13c0db1fb6...  \n",
       "95780                                                     \n",
       "95781                                       catID=200001  \n",
       "\n",
       "[95782 rows x 7 columns]"
      ]
     },
     "execution_count": 7,
     "metadata": {},
     "output_type": "execute_result"
    }
   ],
   "source": [
    "urldata"
   ]
  },
  {
   "cell_type": "code",
   "execution_count": 5,
   "metadata": {},
   "outputs": [],
   "source": [
    "urldata['host_path'] = urldata['hostname']+urldata['path']"
   ]
  },
  {
   "cell_type": "code",
   "execution_count": 9,
   "metadata": {},
   "outputs": [
    {
     "data": {
      "text/html": [
       "<div>\n",
       "<style scoped>\n",
       "    .dataframe tbody tr th:only-of-type {\n",
       "        vertical-align: middle;\n",
       "    }\n",
       "\n",
       "    .dataframe tbody tr th {\n",
       "        vertical-align: top;\n",
       "    }\n",
       "\n",
       "    .dataframe thead th {\n",
       "        text-align: right;\n",
       "    }\n",
       "</style>\n",
       "<table border=\"1\" class=\"dataframe\">\n",
       "  <thead>\n",
       "    <tr style=\"text-align: right;\">\n",
       "      <th></th>\n",
       "      <th>index</th>\n",
       "      <th>url</th>\n",
       "      <th>label</th>\n",
       "      <th>m_url</th>\n",
       "      <th>hostname</th>\n",
       "      <th>path</th>\n",
       "      <th>query</th>\n",
       "      <th>host_path</th>\n",
       "    </tr>\n",
       "  </thead>\n",
       "  <tbody>\n",
       "    <tr>\n",
       "      <th>0</th>\n",
       "      <td>30845</td>\n",
       "      <td>belajarprogramming.com/newpaypal/loggy/paypal.htm</td>\n",
       "      <td>1</td>\n",
       "      <td>http://belajarprogramming.com/newpaypal/loggy/...</td>\n",
       "      <td>belajarprogramming.com</td>\n",
       "      <td>/newpaypal/loggy/paypal.htm</td>\n",
       "      <td></td>\n",
       "      <td>belajarprogramming.com/newpaypal/loggy/paypal.htm</td>\n",
       "    </tr>\n",
       "    <tr>\n",
       "      <th>1</th>\n",
       "      <td>25750</td>\n",
       "      <td>ninedotlabs.com/att2/index.php</td>\n",
       "      <td>1</td>\n",
       "      <td>http://ninedotlabs.com/att2/index.php</td>\n",
       "      <td>ninedotlabs.com</td>\n",
       "      <td>/att2/index.php</td>\n",
       "      <td></td>\n",
       "      <td>ninedotlabs.com/att2/index.php</td>\n",
       "    </tr>\n",
       "    <tr>\n",
       "      <th>2</th>\n",
       "      <td>91832</td>\n",
       "      <td>www.almostfabulous.com/youker/</td>\n",
       "      <td>0</td>\n",
       "      <td>http://www.almostfabulous.com/youker/</td>\n",
       "      <td>www.almostfabulous.com</td>\n",
       "      <td>/youker/</td>\n",
       "      <td></td>\n",
       "      <td>www.almostfabulous.com/youker/</td>\n",
       "    </tr>\n",
       "    <tr>\n",
       "      <th>3</th>\n",
       "      <td>29165</td>\n",
       "      <td>stbcomputer.com/autodesk/components/www.paypal...</td>\n",
       "      <td>1</td>\n",
       "      <td>http://stbcomputer.com/autodesk/components/www...</td>\n",
       "      <td>stbcomputer.com</td>\n",
       "      <td>/autodesk/components/www.paypal.com/dk/cgi-bin...</td>\n",
       "      <td></td>\n",
       "      <td>stbcomputer.com/autodesk/components/www.paypal...</td>\n",
       "    </tr>\n",
       "    <tr>\n",
       "      <th>4</th>\n",
       "      <td>52012</td>\n",
       "      <td>members.tripod.com/chang.ling/</td>\n",
       "      <td>0</td>\n",
       "      <td>http://members.tripod.com/chang.ling/</td>\n",
       "      <td>members.tripod.com</td>\n",
       "      <td>/chang.ling/</td>\n",
       "      <td></td>\n",
       "      <td>members.tripod.com/chang.ling/</td>\n",
       "    </tr>\n",
       "    <tr>\n",
       "      <th>...</th>\n",
       "      <td>...</td>\n",
       "      <td>...</td>\n",
       "      <td>...</td>\n",
       "      <td>...</td>\n",
       "      <td>...</td>\n",
       "      <td>...</td>\n",
       "      <td>...</td>\n",
       "      <td>...</td>\n",
       "    </tr>\n",
       "    <tr>\n",
       "      <th>95777</th>\n",
       "      <td>86523</td>\n",
       "      <td>www.winehq.com/?interview=14</td>\n",
       "      <td>0</td>\n",
       "      <td>http://www.winehq.com/?interview=14</td>\n",
       "      <td>www.winehq.com</td>\n",
       "      <td>/</td>\n",
       "      <td>interview=14</td>\n",
       "      <td>www.winehq.com/</td>\n",
       "    </tr>\n",
       "    <tr>\n",
       "      <th>95778</th>\n",
       "      <td>45352</td>\n",
       "      <td>2933517.com/js</td>\n",
       "      <td>1</td>\n",
       "      <td>http://2933517.com/js</td>\n",
       "      <td>2933517.com</td>\n",
       "      <td>/js</td>\n",
       "      <td></td>\n",
       "      <td>2933517.com/js</td>\n",
       "    </tr>\n",
       "    <tr>\n",
       "      <th>95779</th>\n",
       "      <td>34852</td>\n",
       "      <td>imajinsmiles.com/Questions.html?cmd=_Questions...</td>\n",
       "      <td>1</td>\n",
       "      <td>http://imajinsmiles.com/Questions.html?cmd=_Qu...</td>\n",
       "      <td>imajinsmiles.com</td>\n",
       "      <td>/Questions.html</td>\n",
       "      <td>cmd=_Questions&amp;amp;dispatch=5885d80a13c0db1fb6...</td>\n",
       "      <td>imajinsmiles.com/Questions.html</td>\n",
       "    </tr>\n",
       "    <tr>\n",
       "      <th>95780</th>\n",
       "      <td>7754</td>\n",
       "      <td>thesecondhalfonline.com/wp-includes/js/tinymce...</td>\n",
       "      <td>1</td>\n",
       "      <td>http://thesecondhalfonline.com/wp-includes/js/...</td>\n",
       "      <td>thesecondhalfonline.com</td>\n",
       "      <td>/wp-includes/js/tinymce/remository.utilitie.htm</td>\n",
       "      <td></td>\n",
       "      <td>thesecondhalfonline.com/wp-includes/js/tinymce...</td>\n",
       "    </tr>\n",
       "    <tr>\n",
       "      <th>95781</th>\n",
       "      <td>79751</td>\n",
       "      <td>www.informationweek.com/whitepaper/index.jhtml...</td>\n",
       "      <td>0</td>\n",
       "      <td>http://www.informationweek.com/whitepaper/inde...</td>\n",
       "      <td>www.informationweek.com</td>\n",
       "      <td>/whitepaper/index.jhtml</td>\n",
       "      <td>catID=200001</td>\n",
       "      <td>www.informationweek.com/whitepaper/index.jhtml</td>\n",
       "    </tr>\n",
       "  </tbody>\n",
       "</table>\n",
       "<p>95782 rows × 8 columns</p>\n",
       "</div>"
      ],
      "text/plain": [
       "       index                                                url  label  \\\n",
       "0      30845  belajarprogramming.com/newpaypal/loggy/paypal.htm      1   \n",
       "1      25750                     ninedotlabs.com/att2/index.php      1   \n",
       "2      91832                     www.almostfabulous.com/youker/      0   \n",
       "3      29165  stbcomputer.com/autodesk/components/www.paypal...      1   \n",
       "4      52012                     members.tripod.com/chang.ling/      0   \n",
       "...      ...                                                ...    ...   \n",
       "95777  86523                       www.winehq.com/?interview=14      0   \n",
       "95778  45352                                     2933517.com/js      1   \n",
       "95779  34852  imajinsmiles.com/Questions.html?cmd=_Questions...      1   \n",
       "95780   7754  thesecondhalfonline.com/wp-includes/js/tinymce...      1   \n",
       "95781  79751  www.informationweek.com/whitepaper/index.jhtml...      0   \n",
       "\n",
       "                                                   m_url  \\\n",
       "0      http://belajarprogramming.com/newpaypal/loggy/...   \n",
       "1                  http://ninedotlabs.com/att2/index.php   \n",
       "2                  http://www.almostfabulous.com/youker/   \n",
       "3      http://stbcomputer.com/autodesk/components/www...   \n",
       "4                  http://members.tripod.com/chang.ling/   \n",
       "...                                                  ...   \n",
       "95777                http://www.winehq.com/?interview=14   \n",
       "95778                              http://2933517.com/js   \n",
       "95779  http://imajinsmiles.com/Questions.html?cmd=_Qu...   \n",
       "95780  http://thesecondhalfonline.com/wp-includes/js/...   \n",
       "95781  http://www.informationweek.com/whitepaper/inde...   \n",
       "\n",
       "                      hostname  \\\n",
       "0       belajarprogramming.com   \n",
       "1              ninedotlabs.com   \n",
       "2       www.almostfabulous.com   \n",
       "3              stbcomputer.com   \n",
       "4           members.tripod.com   \n",
       "...                        ...   \n",
       "95777           www.winehq.com   \n",
       "95778              2933517.com   \n",
       "95779         imajinsmiles.com   \n",
       "95780  thesecondhalfonline.com   \n",
       "95781  www.informationweek.com   \n",
       "\n",
       "                                                    path  \\\n",
       "0                            /newpaypal/loggy/paypal.htm   \n",
       "1                                        /att2/index.php   \n",
       "2                                               /youker/   \n",
       "3      /autodesk/components/www.paypal.com/dk/cgi-bin...   \n",
       "4                                           /chang.ling/   \n",
       "...                                                  ...   \n",
       "95777                                                  /   \n",
       "95778                                                /js   \n",
       "95779                                    /Questions.html   \n",
       "95780    /wp-includes/js/tinymce/remository.utilitie.htm   \n",
       "95781                            /whitepaper/index.jhtml   \n",
       "\n",
       "                                                   query  \\\n",
       "0                                                          \n",
       "1                                                          \n",
       "2                                                          \n",
       "3                                                          \n",
       "4                                                          \n",
       "...                                                  ...   \n",
       "95777                                       interview=14   \n",
       "95778                                                      \n",
       "95779  cmd=_Questions&amp;dispatch=5885d80a13c0db1fb6...   \n",
       "95780                                                      \n",
       "95781                                       catID=200001   \n",
       "\n",
       "                                               host_path  \n",
       "0      belajarprogramming.com/newpaypal/loggy/paypal.htm  \n",
       "1                         ninedotlabs.com/att2/index.php  \n",
       "2                         www.almostfabulous.com/youker/  \n",
       "3      stbcomputer.com/autodesk/components/www.paypal...  \n",
       "4                         members.tripod.com/chang.ling/  \n",
       "...                                                  ...  \n",
       "95777                                    www.winehq.com/  \n",
       "95778                                     2933517.com/js  \n",
       "95779                    imajinsmiles.com/Questions.html  \n",
       "95780  thesecondhalfonline.com/wp-includes/js/tinymce...  \n",
       "95781     www.informationweek.com/whitepaper/index.jhtml  \n",
       "\n",
       "[95782 rows x 8 columns]"
      ]
     },
     "execution_count": 9,
     "metadata": {},
     "output_type": "execute_result"
    }
   ],
   "source": [
    "urldata"
   ]
  },
  {
   "cell_type": "code",
   "execution_count": 6,
   "metadata": {},
   "outputs": [
    {
     "data": {
      "text/plain": [
       "(47891, 47891)"
      ]
     },
     "execution_count": 6,
     "metadata": {},
     "output_type": "execute_result"
    }
   ],
   "source": [
    "domainNamesAll = urldata['host_path'].tolist()\n",
    "i=0\n",
    "legit=0\n",
    "phishing=0\n",
    "for d in domainNamesAll:\n",
    "    if (urldata['label'][i]==0): \n",
    "        legit=legit+1\n",
    "    if (urldata['label'][i]==1):\n",
    "        phishing +=1\n",
    "    i=i+1\n",
    "legit, phishing"
   ]
  },
  {
   "cell_type": "code",
   "execution_count": 7,
   "metadata": {},
   "outputs": [
    {
     "data": {
      "text/plain": [
       "500"
      ]
     },
     "execution_count": 7,
     "metadata": {},
     "output_type": "execute_result"
    }
   ],
   "source": [
    "domainNamesAll = urldata['host_path'].tolist()\n",
    "LEncoder = LabelEncoder()\n",
    "allCharacters = ''.join(domainNamesAll)\n",
    "LEncoder.fit(list(allCharacters))\n",
    "Lencoded_domainNames = []\n",
    "i=0\n",
    "Len_legitimate=[]\n",
    "Len_phishing=[]\n",
    "Len_DM=[]\n",
    "for d in domainNamesAll:\n",
    "    # Split the domain name into a list of characters\n",
    "    characters = list(d)\n",
    "    # Encode each character as an integer using the LabelEncoder object\n",
    "    encoded_characters = LEncoder.transform(characters)\n",
    "    # Append the encoded characters to the list of encoded domain names\n",
    "    Len_DM.append(len(encoded_characters))\n",
    "    if (urldata['label'][i]==0): \n",
    "        Len_legitimate.append(len(encoded_characters))\n",
    "    if (urldata['label'][i]==1):\n",
    "        Len_phishing.append(len(encoded_characters))\n",
    "    i=i+1\n",
    "    if len(encoded_characters) > 500:\n",
    "        encoded_characters = encoded_characters[:500]\n",
    "    Lencoded_domainNames.append(encoded_characters)\n",
    "maxLength = max([len(encoded_domain_name) for encoded_domain_name in Lencoded_domainNames])\n",
    "maxLength"
   ]
  },
  {
   "cell_type": "code",
   "execution_count": 39,
   "metadata": {},
   "outputs": [
    {
     "data": {
      "text/plain": [
       "array([80, 80, 80, 11, 73, 72, 69, 82, 78, 11, 62, 61, 78, 11, 65, 68],\n",
       "      dtype=int64)"
      ]
     },
     "execution_count": 39,
     "metadata": {},
     "output_type": "execute_result"
    }
   ],
   "source": [
    "characters = list('www.polyu.edu.hk')\n",
    "encoded_characters = LEncoder.transform(characters)\n",
    "encoded_characters"
   ]
  },
  {
   "cell_type": "code",
   "execution_count": 36,
   "metadata": {},
   "outputs": [
    {
     "data": {
      "text/plain": [
       "array([77, 62, 60, 65, 11, 64, 75, 72, 78, 73, 76, 11, 82, 58, 65, 72, 72,\n",
       "       11, 60, 72, 70, 12, 64, 75, 72, 78, 73, 12, 60, 78, 38, 47, 33, 12],\n",
       "      dtype=int64)"
      ]
     },
     "execution_count": 36,
     "metadata": {},
     "output_type": "execute_result"
    }
   ],
   "source": [
    "Lencoded_domainNames[8]"
   ]
  },
  {
   "cell_type": "code",
   "execution_count": 21,
   "metadata": {},
   "outputs": [
    {
     "data": {
      "image/png": "[encoded data removed]",
      "text/plain": [
       "<Figure size 720x288 with 2 Axes>"
      ]
     },
     "metadata": {
      "needs_background": "light"
     },
     "output_type": "display_data"
    }
   ],
   "source": [
    "x_min = min(np.min(Len_legitimate), np.min(Len_phishing))\n",
    "x_max = max(np.max(Len_legitimate), np.max(Len_phishing))\n",
    "\n",
    "x_max=500\n",
    "fig, axs = plt.subplots(1, 2, figsize=(10, 4))\n",
    "\n",
    "# Plot histogram 1\n",
    "axs[0].hist(Len_legitimate, bins=100, range=(x_min, x_max), color='blue', alpha=0.5)\n",
    "axs[0].set_title('Legitimate')\n",
    "\n",
    "# Plot histogram 2\n",
    "axs[1].hist(Len_phishing, bins=100, range=(x_min, x_max), color='green', alpha=0.5)\n",
    "axs[1].set_title('phishing')\n",
    "\n",
    "# Adjust spacing between subplots\n",
    "plt.tight_layout()\n",
    "\n",
    "# Show the plot\n",
    "plt.show()"
   ]
  },
  {
   "cell_type": "code",
   "execution_count": 12,
   "metadata": {},
   "outputs": [
    {
     "data": {
      "text/plain": [
       "40568"
      ]
     },
     "execution_count": 12,
     "metadata": {},
     "output_type": "execute_result"
    }
   ],
   "source": [
    "Len_DM.index(2175)"
   ]
  },
  {
   "cell_type": "code",
   "execution_count": 24,
   "metadata": {
    "scrolled": true
   },
   "outputs": [
    {
     "data": {
      "text/plain": [
       "'peekaboopoles.co.uk/holding/payza.com/accounts/underhold.hild.frozen/money.hold/unhold.accounts.code/securty.code.code/ewrlksndafnlkqwkenwkjhjesjnasfmkdsbfndsnabfjhsadgrfujhadsjkfnwernbmasbmndbsmnbsamnfbdsmnfbmewrlksndafnlkqwkenwkjhjesjnasfmkdsbfndsnabfjhsadgrfujhadsjkfnwernbmasbmndbsmnbsamnfbdsmnfbmndsabfmnbdsmnfbndsabfmnbdsmnfdgdfsgfdgdsgfb/ewrlksndafnlkqwkenwkjhjesjnasfmkdsbfndsnabfjhsadgrfujhadsjkfnwernbmasbmndbsmnbsamnfbdsmnfbmdsafsdafdsfasdfsdfsdfasndsabfmnbdsmnfb/ewrlksndafnlkqwkenwkjhjesjnasfmkdsbfndsnabfjhsadgrfujhadsjkfnwernbmasbmndbsmnbsamnfbdsmnfbsdafsadfadsfsafsdafdsfsadvvmndsabfmnbdsmnfb/ewrlksndafnlkqwkenwkjhjesjnasfmkdsbfndsnabfjhsadgrfujhadsjkfnwernbmasbmndbsmnbsamnfbdsmnfbsdafsadfadsfsafsdafdsfsadvvmndsabfmnbdsmnfb/eewrlksndafnlkqwkenwkjhjesjnasfmkdsbfndsnabfjhsadgrfujhadsjkfnwernbmasbmndbsmnbsamnfbdsmnfbsdafsadfadsfsafsdafdsfsadvvmndsabfmnbdsmnfbwrlksndafnlkqwkenwkjhjesjnasfmkdsbfndsnabfjhsadgrfujhadsjkfnwernbmasbmndbsmnbsamnfbdsmnfbsdafsadfadsfsafsdafdsfsadvvmn/eewrlksndafnlkqwkenwkjhjesjnasfmkdsbfndsnabfjhsadgrfujhadsjkfnwernbmasbmndbsmnbsamnfbdsmnfbsdafsadfadsfsafsdafdsfsadvvmndsabfmnbdsmnfbwrlksndafnlkqwkenwkjhjesjnasfmkdsbfndsnabfjhsadgrfujhadsjkfnwernbmasbmndbsmnbsamnfbdsmnfbsdafsadfadsfsafsdafdsfsadvvmnds/eewrlksndafnlkqwkenwkjhjesjnasfmkdsbfndsnabfjhsadgrfujhadsjkfnwernbmasbmndbsmnbsamnfbdsmnfbsdafsadfadsfsafsdafdsfsadvvmndsabfmnbdsmnfbwrlksndafnlkqwkenwkjhjesjnasfmkdsbfndsnabfjhsadgrfujhadsjkfnwernbmasbmndbsmnbsamnfbdsmnfbsdafsadfadsfsafsdafdsfsadvvmnds/unholding/fmkdsbfndsnabfjhsadgrfujhadsjkfnwernbmasbmndbsmnbsamnfbdsmnfbsdafsadfadsfsafsdafdsfsadvvmn/fmkdsbfndsnabfjhsadgrfujhadsjkfnwernbmasbmndbsmnbsamnfbdsmnfbsdafsadfadsfsafsdafdsfsadvvmnfmkdsbfndsnabfjhsadgrfujhadsjkfnwernbmasbmndbsmnbsamnfbdsmnfbsdafsadfadsfsafsdafdsfsadvvmn/fmkdsbfndsnabfjhsadgrfujhadsjkfnwernbmasbmndbsmnbsamnfbdsmnfbsdafsadfadsfsafsdafdsfsadvvmnfmkdsbfndsnabfjhsadgrfujhadsjkfnwernbmasbmndbsmnbsamnfbdsmnfbsdafsadfadsfsafsdafdsfsadvvmn/fmkdsbfndsnabfjhsadgrfujhadsjkfnwernbmasbmndbsmnbsamnfbdsmnfbsdafsadfadsfsafsdafdsfsadvvmnfmkdsbfndsnabfjhsadgrfujhadsjkfnwernbmasbmndbsmnbsamnfbdsmnfbsdafsadfadsfsafsdafdsfsadvvmn/hold.login/login.aspx.htm'"
      ]
     },
     "execution_count": 24,
     "metadata": {},
     "output_type": "execute_result"
    }
   ],
   "source": [
    "urldata['host_path'][40568]"
   ]
  },
  {
   "cell_type": "code",
   "execution_count": 8,
   "metadata": {},
   "outputs": [
    {
     "data": {
      "text/plain": [
       "88"
      ]
     },
     "execution_count": 8,
     "metadata": {},
     "output_type": "execute_result"
    }
   ],
   "source": [
    "num_unique_chars = len(LEncoder.classes_)\n",
    "num_unique_chars"
   ]
  },
  {
   "cell_type": "code",
   "execution_count": 9,
   "metadata": {},
   "outputs": [
    {
     "data": {
      "text/plain": [
       "array([' ', '!', '$', '%', '&', '(', ')', '*', '+', ',', '-', '.', '/',\n",
       "       '0', '1', '2', '3', '4', '5', '6', '7', '8', '9', ':', ';', '=',\n",
       "       '@', 'A', 'B', 'C', 'D', 'E', 'F', 'G', 'H', 'I', 'J', 'K', 'L',\n",
       "       'M', 'N', 'O', 'P', 'Q', 'R', 'S', 'T', 'U', 'V', 'W', 'X', 'Y',\n",
       "       'Z', '[', '\\\\', ']', '^', '_', 'a', 'b', 'c', 'd', 'e', 'f', 'g',\n",
       "       'h', 'i', 'j', 'k', 'l', 'm', 'n', 'o', 'p', 'q', 'r', 's', 't',\n",
       "       'u', 'v', 'w', 'x', 'y', 'z', '{', '|', '}', '~'], dtype='<U1')"
      ]
     },
     "execution_count": 9,
     "metadata": {},
     "output_type": "execute_result"
    }
   ],
   "source": [
    "LEncoder.classes_"
   ]
  },
  {
   "cell_type": "code",
   "execution_count": 9,
   "metadata": {},
   "outputs": [],
   "source": [
    "from tensorflow.keras.preprocessing.sequence import pad_sequences\n",
    "X = pad_sequences(Lencoded_domainNames, maxlen = maxLength)"
   ]
  },
  {
   "cell_type": "code",
   "execution_count": 10,
   "metadata": {},
   "outputs": [],
   "source": [
    "Y = urldata['label']"
   ]
  },
  {
   "cell_type": "code",
   "execution_count": 14,
   "metadata": {},
   "outputs": [
    {
     "data": {
      "text/plain": [
       "(95782, 95782)"
      ]
     },
     "execution_count": 14,
     "metadata": {},
     "output_type": "execute_result"
    }
   ],
   "source": [
    "len(X), len(Y)"
   ]
  },
  {
   "cell_type": "code",
   "execution_count": 11,
   "metadata": {},
   "outputs": [],
   "source": [
    "from sklearn.model_selection import train_test_split\n",
    "Xtrain, Xtest, ytrain, ytest = train_test_split(X, Y, test_size=0.2, random_state=42)"
   ]
  },
  {
   "cell_type": "code",
   "execution_count": 16,
   "metadata": {},
   "outputs": [
    {
     "data": {
      "text/plain": [
       "((76625, 500), 76625)"
      ]
     },
     "execution_count": 16,
     "metadata": {},
     "output_type": "execute_result"
    }
   ],
   "source": [
    "Xtrain.shape, len(ytrain)"
   ]
  },
  {
   "cell_type": "code",
   "execution_count": 17,
   "metadata": {},
   "outputs": [
    {
     "data": {
      "text/plain": [
       "((19157, 500), 19157)"
      ]
     },
     "execution_count": 17,
     "metadata": {},
     "output_type": "execute_result"
    }
   ],
   "source": [
    "Xtest.shape, len(ytest)"
   ]
  },
  {
   "cell_type": "code",
   "execution_count": 12,
   "metadata": {},
   "outputs": [],
   "source": [
    "from tensorflow.keras.layers import Embedding\n",
    "from tensorflow.keras.models import Sequential, Model\n",
    "from tensorflow.keras.layers import Dense, Activation, concatenate\n",
    "from tensorflow.keras.layers import Flatten, Conv1D, MaxPooling1D, Input, Dropout\n",
    "from tensorflow.keras.utils import plot_model\n",
    "from tensorflow.keras.layers import GaussianNoise"
   ]
  },
  {
   "cell_type": "code",
   "execution_count": 13,
   "metadata": {},
   "outputs": [],
   "source": [
    "vocab_size = num_unique_chars"
   ]
  },
  {
   "cell_type": "code",
   "execution_count": 14,
   "metadata": {
    "scrolled": false
   },
   "outputs": [
    {
     "name": "stdout",
     "output_type": "stream",
     "text": [
      "Model: \"model\"\n",
      "__________________________________________________________________________________________________\n",
      "Layer (type)                    Output Shape         Param #     Connected to                     \n",
      "==================================================================================================\n",
      "input_1 (InputLayer)            [(None, 500)]        0                                            \n",
      "__________________________________________________________________________________________________\n",
      "embedding (Embedding)           (None, 500, 48)      4224        input_1[0][0]                    \n",
      "__________________________________________________________________________________________________\n",
      "conv1d (Conv1D)                 (None, 500, 256)     37120       embedding[0][0]                  \n",
      "__________________________________________________________________________________________________\n",
      "conv1d_1 (Conv1D)               (None, 500, 256)     49408       embedding[0][0]                  \n",
      "__________________________________________________________________________________________________\n",
      "flatten (Flatten)               (None, 128000)       0           conv1d[0][0]                     \n",
      "__________________________________________________________________________________________________\n",
      "flatten_1 (Flatten)             (None, 128000)       0           conv1d_1[0][0]                   \n",
      "__________________________________________________________________________________________________\n",
      "concatenate (Concatenate)       (None, 256000)       0           flatten[0][0]                    \n",
      "                                                                 flatten_1[0][0]                  \n",
      "__________________________________________________________________________________________________\n",
      "dropout (Dropout)               (None, 256000)       0           concatenate[0][0]                \n",
      "__________________________________________________________________________________________________\n",
      "dense (Dense)                   (None, 128)          32768128    dropout[0][0]                    \n",
      "__________________________________________________________________________________________________\n",
      "dense_1 (Dense)                 (None, 128)          16512       dense[0][0]                      \n",
      "__________________________________________________________________________________________________\n",
      "dense_2 (Dense)                 (None, 128)          16512       dense_1[0][0]                    \n",
      "__________________________________________________________________________________________________\n",
      "dense_3 (Dense)                 (None, 1)            129         dense_2[0][0]                    \n",
      "==================================================================================================\n",
      "Total params: 32,892,033\n",
      "Trainable params: 32,892,033\n",
      "Non-trainable params: 0\n",
      "__________________________________________________________________________________________________\n",
      "None\n",
      "Epoch 1/10\n",
      "2395/2395 [==============================] - 769s 321ms/step - loss: 0.2950 - accuracy: 0.8674 - val_loss: 0.1302 - val_accuracy: 0.9516\n",
      "Epoch 2/10\n",
      "2395/2395 [==============================] - 1362s 569ms/step - loss: 0.1095 - accuracy: 0.9597 - val_loss: 0.1129 - val_accuracy: 0.9557\n",
      "Epoch 3/10\n",
      "2395/2395 [==============================] - 1350s 564ms/step - loss: 0.0790 - accuracy: 0.9711 - val_loss: 0.1014 - val_accuracy: 0.9670\n",
      "Epoch 4/10\n",
      "2395/2395 [==============================] - 717s 299ms/step - loss: 0.0588 - accuracy: 0.9780 - val_loss: 0.1056 - val_accuracy: 0.9660\n",
      "Epoch 5/10\n",
      "2395/2395 [==============================] - 629s 262ms/step - loss: 0.0457 - accuracy: 0.9835 - val_loss: 0.1076 - val_accuracy: 0.9675\n",
      "Epoch 6/10\n",
      "2395/2395 [==============================] - 634s 265ms/step - loss: 0.0339 - accuracy: 0.9883 - val_loss: 0.1161 - val_accuracy: 0.9695\n",
      "Epoch 7/10\n",
      "2395/2395 [==============================] - 633s 264ms/step - loss: 0.0272 - accuracy: 0.9904 - val_loss: 0.1113 - val_accuracy: 0.9684\n",
      "Epoch 8/10\n",
      "2395/2395 [==============================] - 671s 280ms/step - loss: 0.0249 - accuracy: 0.9912 - val_loss: 0.1245 - val_accuracy: 0.9648\n",
      "Epoch 9/10\n",
      "2395/2395 [==============================] - 718s 300ms/step - loss: 0.0196 - accuracy: 0.9927 - val_loss: 0.1193 - val_accuracy: 0.9697\n",
      "Epoch 10/10\n",
      "2395/2395 [==============================] - 773s 323ms/step - loss: 0.0175 - accuracy: 0.9936 - val_loss: 0.1110 - val_accuracy: 0.9671\n",
      "time for training the model = 8257 sec\n",
      "Test Accuracy: 96.711385\n",
      "Test Loss: 11.098646\n"
     ]
    }
   ],
   "source": [
    "def model(max_length, vocab_size, output_dim, filter_sizes, num_filters, dropout_rate, dense_units):\n",
    "    embed_input = Input(shape=(max_length,))\n",
    "    x = Embedding(vocab_size, output_dim, input_length=max_length)(embed_input)\n",
    "    \n",
    "#    noise = GaussianNoise(0.5)(x)\n",
    "    \n",
    "#    drop = SpatialDropout1D(dropout_rate)(noise)\n",
    "    pooled_outputs = []\n",
    "    for i in range(len(filter_sizes)):\n",
    "        conv = Conv1D(num_filters, kernel_size=filter_sizes[i], padding='same', activation='relu')(x)\n",
    "        conv = Flatten()(conv)           \n",
    "        pooled_outputs.append(conv)\n",
    "        \n",
    "    \n",
    "#    flat = Flatten()(noise)\n",
    "#    pooled_outputs.append(flat)\n",
    "    \n",
    "    if (len(filter_sizes)==1):\n",
    "        merge = pooled_outputs\n",
    "    else:\n",
    "        merge = concatenate(pooled_outputs)\n",
    "    \n",
    "    drop = Dropout(dropout_rate)(merge)\n",
    "    \n",
    "    dense_1 = Dense(dense_units, activation='relu')(drop)\n",
    "    dense_2 = Dense(dense_units, activation='relu')(dense_1)\n",
    "    dense_3 = Dense(dense_units, activation='relu')(dense_2)\n",
    "    out = Dense(1, activation='sigmoid')(dense_3)\n",
    "    \n",
    "    model = Model(inputs=embed_input, outputs=out)\n",
    "    \n",
    "    model.compile(loss='binary_crossentropy', optimizer='adam', metrics=['accuracy'])\n",
    "    \n",
    "    print(model.summary())\n",
    "    return model\n",
    "\n",
    "import time\n",
    "start=time.time()\n",
    "model = model(maxLength, vocab_size, 48, [3,4], 256, 0.4, 128)\n",
    "history = model.fit(Xtrain, ytrain, validation_data=(Xtest, ytest), epochs=10, verbose=1) \n",
    "\n",
    "print('time for training the model = {:.0f} sec'.format(time.time()-start))\n",
    "# evaluate\n",
    "loss, acc = model.evaluate(Xtest, ytest, verbose=0)\n",
    "print('Test Accuracy: %f' % (acc*100))\n",
    "print('Test Loss: %f' % (loss*100))"
   ]
  },
  {
   "cell_type": "code",
   "execution_count": 15,
   "metadata": {},
   "outputs": [
    {
     "name": "stdout",
     "output_type": "stream",
     "text": [
      "[[9281  306]\n",
      " [ 324 9246]]\n"
     ]
    }
   ],
   "source": [
    "from sklearn.metrics import confusion_matrix\n",
    "y_pred = model.predict(Xtest)\n",
    "print(confusion_matrix(ytest, np.rint(y_pred)))"
   ]
  },
  {
   "cell_type": "code",
   "execution_count": 16,
   "metadata": {},
   "outputs": [],
   "source": [
    "model.save(\"../saved_models/Char-CNN_iter10.h5\")"
   ]
  },
  {
   "cell_type": "code",
   "execution_count": null,
   "metadata": {},
   "outputs": [],
   "source": []
  }
 ],
 "metadata": {
  "kernelspec": {
   "display_name": "Python 3 (ipykernel)",
   "language": "python",
   "name": "python3"
  },
  "language_info": {
   "codemirror_mode": {
    "name": "ipython",
    "version": 3
   },
   "file_extension": ".py",
   "mimetype": "text/x-python",
   "name": "python",
   "nbconvert_exporter": "python",
   "pygments_lexer": "ipython3",
   "version": "3.11.5"
  }
 },
 "nbformat": 4,
 "nbformat_minor": 4
}
